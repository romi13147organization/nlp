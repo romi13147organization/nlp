{
 "cells": [
  {
   "cell_type": "code",
   "id": "initial_id",
   "metadata": {
    "collapsed": true,
    "ExecuteTime": {
     "end_time": "2025-04-01T13:47:08.873810Z",
     "start_time": "2025-04-01T13:47:08.867811Z"
    }
   },
   "source": [
    "from sklearn.model_selection import train_test_split\n",
    "from sklearn.preprocessing import LabelEncoder\n",
    "from utilities import load_data_basiccleanup\n",
    "from transformers import Trainer, TrainingArguments, DistilBertTokenizerFast, DistilBertForSequenceClassification\n",
    "from datasets import Dataset, DatasetDict\n",
    "import torch\n",
    "import warnings\n",
    "warnings.filterwarnings(\"ignore\", category=FutureWarning) # supress FutureWarning"
   ],
   "outputs": [],
   "execution_count": 20
  },
  {
   "metadata": {},
   "cell_type": "markdown",
   "source": "## Load Data",
   "id": "de3fa5af176961b7"
  },
  {
   "metadata": {
    "ExecuteTime": {
     "end_time": "2025-04-01T13:47:38.639218Z",
     "start_time": "2025-04-01T13:47:08.880807Z"
    }
   },
   "cell_type": "code",
   "source": [
    "# Load clean data\n",
    "df = load_data_basiccleanup()"
   ],
   "id": "fe6bc5ade67ff20d",
   "outputs": [
    {
     "name": "stdout",
     "output_type": "stream",
     "text": [
      "Warning: One row was deleted, because 'DESCRIPTION' is empty.\n"
     ]
    }
   ],
   "execution_count": 21
  },
  {
   "metadata": {
    "ExecuteTime": {
     "end_time": "2025-04-01T13:47:38.657231Z",
     "start_time": "2025-04-01T13:47:38.651218Z"
    }
   },
   "cell_type": "code",
   "source": [
    "# Look at topic distribution\n",
    "df['TOPIC_MAIN'].value_counts()"
   ],
   "id": "ed8aed2680690ca",
   "outputs": [
    {
     "data": {
      "text/plain": [
       "TOPIC_MAIN\n",
       "Fiction             62596\n",
       "Children’s Books    19643\n",
       "Young Adult          3749\n",
       "Classics             3199\n",
       "Humor                1450\n",
       "Poetry               1256\n",
       "Name: count, dtype: int64"
      ]
     },
     "execution_count": 22,
     "metadata": {},
     "output_type": "execute_result"
    }
   ],
   "execution_count": 22
  },
  {
   "metadata": {
    "ExecuteTime": {
     "end_time": "2025-04-01T13:47:38.696285Z",
     "start_time": "2025-04-01T13:47:38.691280Z"
    }
   },
   "cell_type": "code",
   "source": [
    "# Ensure data is consistent\n",
    "print(f\"{df['TOPIC_MAIN'].value_counts().sum()} == {df.shape[0]}\")"
   ],
   "id": "e3b61ad3345e26ab",
   "outputs": [
    {
     "name": "stdout",
     "output_type": "stream",
     "text": [
      "91893 == 91893\n"
     ]
    }
   ],
   "execution_count": 23
  },
  {
   "metadata": {
    "ExecuteTime": {
     "end_time": "2025-04-01T13:47:38.739793Z",
     "start_time": "2025-04-01T13:47:38.725794Z"
    }
   },
   "cell_type": "code",
   "source": [
    "# Split dataset into train and test\n",
    "train_df, test_df = train_test_split(df[['DESCRIPTION', 'TOPIC_MAIN']], test_size=0.2, random_state=42)"
   ],
   "id": "85bec54d58ca2b40",
   "outputs": [],
   "execution_count": 24
  },
  {
   "metadata": {
    "ExecuteTime": {
     "end_time": "2025-04-01T13:47:38.750796Z",
     "start_time": "2025-04-01T13:47:38.746794Z"
    }
   },
   "cell_type": "code",
   "source": [
    "print(train_df.shape) # (73515, 3)\n",
    "print(test_df.shape) # (18379, 3)"
   ],
   "id": "20392e698fe50dd",
   "outputs": [
    {
     "name": "stdout",
     "output_type": "stream",
     "text": [
      "(73514, 2)\n",
      "(18379, 2)\n"
     ]
    }
   ],
   "execution_count": 25
  },
  {
   "metadata": {
    "ExecuteTime": {
     "end_time": "2025-04-01T13:47:38.773794Z",
     "start_time": "2025-04-01T13:47:38.768794Z"
    }
   },
   "cell_type": "code",
   "source": "train_df",
   "id": "568a6fb6a05c0660",
   "outputs": [
    {
     "data": {
      "text/plain": [
       "                                             DESCRIPTION        TOPIC_MAIN\n",
       "63724  This daring, star-packed collection is the fan...           Fiction\n",
       "14608  With her soft heart and angelic face, Madeline...           Fiction\n",
       "72346  NEW YORK TIMES BESTSELLER * A deeply affecting...           Fiction\n",
       "12024  ONE CHILL EVENING IN BETHLEHEM, young Naomi he...  Children’s Books\n",
       "16203  All original stories about the return of Cthul...           Fiction\n",
       "...                                                  ...               ...\n",
       "6265   Following a wild and raging storm, the Swiss f...  Children’s Books\n",
       "54886  A family-focused guidebook to Italy for travel...           Fiction\n",
       "76820  A single volume of the most beautiful texts by...            Poetry\n",
       "860    The Truth Chasers Book Three. Someone's trying...           Fiction\n",
       "15795  ISABEL DALHOUSIE - Book 8 Nothing captures the...           Fiction\n",
       "\n",
       "[73514 rows x 2 columns]"
      ],
      "text/html": [
       "<div>\n",
       "<style scoped>\n",
       "    .dataframe tbody tr th:only-of-type {\n",
       "        vertical-align: middle;\n",
       "    }\n",
       "\n",
       "    .dataframe tbody tr th {\n",
       "        vertical-align: top;\n",
       "    }\n",
       "\n",
       "    .dataframe thead th {\n",
       "        text-align: right;\n",
       "    }\n",
       "</style>\n",
       "<table border=\"1\" class=\"dataframe\">\n",
       "  <thead>\n",
       "    <tr style=\"text-align: right;\">\n",
       "      <th></th>\n",
       "      <th>DESCRIPTION</th>\n",
       "      <th>TOPIC_MAIN</th>\n",
       "    </tr>\n",
       "  </thead>\n",
       "  <tbody>\n",
       "    <tr>\n",
       "      <th>63724</th>\n",
       "      <td>This daring, star-packed collection is the fan...</td>\n",
       "      <td>Fiction</td>\n",
       "    </tr>\n",
       "    <tr>\n",
       "      <th>14608</th>\n",
       "      <td>With her soft heart and angelic face, Madeline...</td>\n",
       "      <td>Fiction</td>\n",
       "    </tr>\n",
       "    <tr>\n",
       "      <th>72346</th>\n",
       "      <td>NEW YORK TIMES BESTSELLER * A deeply affecting...</td>\n",
       "      <td>Fiction</td>\n",
       "    </tr>\n",
       "    <tr>\n",
       "      <th>12024</th>\n",
       "      <td>ONE CHILL EVENING IN BETHLEHEM, young Naomi he...</td>\n",
       "      <td>Children’s Books</td>\n",
       "    </tr>\n",
       "    <tr>\n",
       "      <th>16203</th>\n",
       "      <td>All original stories about the return of Cthul...</td>\n",
       "      <td>Fiction</td>\n",
       "    </tr>\n",
       "    <tr>\n",
       "      <th>...</th>\n",
       "      <td>...</td>\n",
       "      <td>...</td>\n",
       "    </tr>\n",
       "    <tr>\n",
       "      <th>6265</th>\n",
       "      <td>Following a wild and raging storm, the Swiss f...</td>\n",
       "      <td>Children’s Books</td>\n",
       "    </tr>\n",
       "    <tr>\n",
       "      <th>54886</th>\n",
       "      <td>A family-focused guidebook to Italy for travel...</td>\n",
       "      <td>Fiction</td>\n",
       "    </tr>\n",
       "    <tr>\n",
       "      <th>76820</th>\n",
       "      <td>A single volume of the most beautiful texts by...</td>\n",
       "      <td>Poetry</td>\n",
       "    </tr>\n",
       "    <tr>\n",
       "      <th>860</th>\n",
       "      <td>The Truth Chasers Book Three. Someone's trying...</td>\n",
       "      <td>Fiction</td>\n",
       "    </tr>\n",
       "    <tr>\n",
       "      <th>15795</th>\n",
       "      <td>ISABEL DALHOUSIE - Book 8 Nothing captures the...</td>\n",
       "      <td>Fiction</td>\n",
       "    </tr>\n",
       "  </tbody>\n",
       "</table>\n",
       "<p>73514 rows × 2 columns</p>\n",
       "</div>"
      ]
     },
     "execution_count": 26,
     "metadata": {},
     "output_type": "execute_result"
    }
   ],
   "execution_count": 26
  },
  {
   "metadata": {
    "ExecuteTime": {
     "end_time": "2025-04-01T13:47:38.812308Z",
     "start_time": "2025-04-01T13:47:38.806798Z"
    }
   },
   "cell_type": "code",
   "source": "test_df",
   "id": "fc02c00d1b3ad8c5",
   "outputs": [
    {
     "data": {
      "text/plain": [
       "                                             DESCRIPTION        TOPIC_MAIN\n",
       "62081  This lexicon of modern Western philosophical c...           Fiction\n",
       "18176  Emily-and her new band, the Strangers-won the ...  Children’s Books\n",
       "19140  A perfect graudation gift all about growing up...  Children’s Books\n",
       "16534  Even a bookish big sister is drawn in by the p...  Children’s Books\n",
       "21974  Where Can You Find the Kind of Love You Truly ...           Fiction\n",
       "...                                                  ...               ...\n",
       "458    In a small, dusty town in India, Sripathi Rao ...           Fiction\n",
       "25026  The Limits to Capital provides one of the best...           Fiction\n",
       "73035  How climate change will affect our political t...           Fiction\n",
       "43431  When a woman's body washes up on the shore of ...           Fiction\n",
       "46734  This book takes the reader on a fantastic jour...           Fiction\n",
       "\n",
       "[18379 rows x 2 columns]"
      ],
      "text/html": [
       "<div>\n",
       "<style scoped>\n",
       "    .dataframe tbody tr th:only-of-type {\n",
       "        vertical-align: middle;\n",
       "    }\n",
       "\n",
       "    .dataframe tbody tr th {\n",
       "        vertical-align: top;\n",
       "    }\n",
       "\n",
       "    .dataframe thead th {\n",
       "        text-align: right;\n",
       "    }\n",
       "</style>\n",
       "<table border=\"1\" class=\"dataframe\">\n",
       "  <thead>\n",
       "    <tr style=\"text-align: right;\">\n",
       "      <th></th>\n",
       "      <th>DESCRIPTION</th>\n",
       "      <th>TOPIC_MAIN</th>\n",
       "    </tr>\n",
       "  </thead>\n",
       "  <tbody>\n",
       "    <tr>\n",
       "      <th>62081</th>\n",
       "      <td>This lexicon of modern Western philosophical c...</td>\n",
       "      <td>Fiction</td>\n",
       "    </tr>\n",
       "    <tr>\n",
       "      <th>18176</th>\n",
       "      <td>Emily-and her new band, the Strangers-won the ...</td>\n",
       "      <td>Children’s Books</td>\n",
       "    </tr>\n",
       "    <tr>\n",
       "      <th>19140</th>\n",
       "      <td>A perfect graudation gift all about growing up...</td>\n",
       "      <td>Children’s Books</td>\n",
       "    </tr>\n",
       "    <tr>\n",
       "      <th>16534</th>\n",
       "      <td>Even a bookish big sister is drawn in by the p...</td>\n",
       "      <td>Children’s Books</td>\n",
       "    </tr>\n",
       "    <tr>\n",
       "      <th>21974</th>\n",
       "      <td>Where Can You Find the Kind of Love You Truly ...</td>\n",
       "      <td>Fiction</td>\n",
       "    </tr>\n",
       "    <tr>\n",
       "      <th>...</th>\n",
       "      <td>...</td>\n",
       "      <td>...</td>\n",
       "    </tr>\n",
       "    <tr>\n",
       "      <th>458</th>\n",
       "      <td>In a small, dusty town in India, Sripathi Rao ...</td>\n",
       "      <td>Fiction</td>\n",
       "    </tr>\n",
       "    <tr>\n",
       "      <th>25026</th>\n",
       "      <td>The Limits to Capital provides one of the best...</td>\n",
       "      <td>Fiction</td>\n",
       "    </tr>\n",
       "    <tr>\n",
       "      <th>73035</th>\n",
       "      <td>How climate change will affect our political t...</td>\n",
       "      <td>Fiction</td>\n",
       "    </tr>\n",
       "    <tr>\n",
       "      <th>43431</th>\n",
       "      <td>When a woman's body washes up on the shore of ...</td>\n",
       "      <td>Fiction</td>\n",
       "    </tr>\n",
       "    <tr>\n",
       "      <th>46734</th>\n",
       "      <td>This book takes the reader on a fantastic jour...</td>\n",
       "      <td>Fiction</td>\n",
       "    </tr>\n",
       "  </tbody>\n",
       "</table>\n",
       "<p>18379 rows × 2 columns</p>\n",
       "</div>"
      ]
     },
     "execution_count": 27,
     "metadata": {},
     "output_type": "execute_result"
    }
   ],
   "execution_count": 27
  },
  {
   "metadata": {
    "ExecuteTime": {
     "end_time": "2025-04-01T13:47:38.879308Z",
     "start_time": "2025-04-01T13:47:38.864308Z"
    }
   },
   "cell_type": "code",
   "source": [
    "# Convert categorical labels (topics) to numerical values\n",
    "label_encoder = LabelEncoder()\n",
    "train_df['label'] = label_encoder.fit_transform(train_df['TOPIC_MAIN'])\n",
    "test_df['label'] = label_encoder.transform(test_df['TOPIC_MAIN'])\n",
    "train_df.head()"
   ],
   "id": "dd570c5a692945ed",
   "outputs": [
    {
     "data": {
      "text/plain": [
       "                                             DESCRIPTION        TOPIC_MAIN  \\\n",
       "63724  This daring, star-packed collection is the fan...           Fiction   \n",
       "14608  With her soft heart and angelic face, Madeline...           Fiction   \n",
       "72346  NEW YORK TIMES BESTSELLER * A deeply affecting...           Fiction   \n",
       "12024  ONE CHILL EVENING IN BETHLEHEM, young Naomi he...  Children’s Books   \n",
       "16203  All original stories about the return of Cthul...           Fiction   \n",
       "\n",
       "       label  \n",
       "63724      2  \n",
       "14608      2  \n",
       "72346      2  \n",
       "12024      0  \n",
       "16203      2  "
      ],
      "text/html": [
       "<div>\n",
       "<style scoped>\n",
       "    .dataframe tbody tr th:only-of-type {\n",
       "        vertical-align: middle;\n",
       "    }\n",
       "\n",
       "    .dataframe tbody tr th {\n",
       "        vertical-align: top;\n",
       "    }\n",
       "\n",
       "    .dataframe thead th {\n",
       "        text-align: right;\n",
       "    }\n",
       "</style>\n",
       "<table border=\"1\" class=\"dataframe\">\n",
       "  <thead>\n",
       "    <tr style=\"text-align: right;\">\n",
       "      <th></th>\n",
       "      <th>DESCRIPTION</th>\n",
       "      <th>TOPIC_MAIN</th>\n",
       "      <th>label</th>\n",
       "    </tr>\n",
       "  </thead>\n",
       "  <tbody>\n",
       "    <tr>\n",
       "      <th>63724</th>\n",
       "      <td>This daring, star-packed collection is the fan...</td>\n",
       "      <td>Fiction</td>\n",
       "      <td>2</td>\n",
       "    </tr>\n",
       "    <tr>\n",
       "      <th>14608</th>\n",
       "      <td>With her soft heart and angelic face, Madeline...</td>\n",
       "      <td>Fiction</td>\n",
       "      <td>2</td>\n",
       "    </tr>\n",
       "    <tr>\n",
       "      <th>72346</th>\n",
       "      <td>NEW YORK TIMES BESTSELLER * A deeply affecting...</td>\n",
       "      <td>Fiction</td>\n",
       "      <td>2</td>\n",
       "    </tr>\n",
       "    <tr>\n",
       "      <th>12024</th>\n",
       "      <td>ONE CHILL EVENING IN BETHLEHEM, young Naomi he...</td>\n",
       "      <td>Children’s Books</td>\n",
       "      <td>0</td>\n",
       "    </tr>\n",
       "    <tr>\n",
       "      <th>16203</th>\n",
       "      <td>All original stories about the return of Cthul...</td>\n",
       "      <td>Fiction</td>\n",
       "      <td>2</td>\n",
       "    </tr>\n",
       "  </tbody>\n",
       "</table>\n",
       "</div>"
      ]
     },
     "execution_count": 28,
     "metadata": {},
     "output_type": "execute_result"
    }
   ],
   "execution_count": 28
  },
  {
   "metadata": {
    "ExecuteTime": {
     "end_time": "2025-04-01T13:47:39.015334Z",
     "start_time": "2025-04-01T13:47:38.929821Z"
    }
   },
   "cell_type": "code",
   "source": [
    "# Convert Pandas DataFrames to HuggingFace Dataset-format\n",
    "dataset = DatasetDict({\n",
    "    'train': Dataset.from_pandas(train_df[['DESCRIPTION', 'label']]),\n",
    "    'test': Dataset.from_pandas(test_df[['DESCRIPTION', 'label']])\n",
    "})\n",
    "print(dataset)"
   ],
   "id": "39f263639a2dbce2",
   "outputs": [
    {
     "name": "stdout",
     "output_type": "stream",
     "text": [
      "DatasetDict({\n",
      "    train: Dataset({\n",
      "        features: ['DESCRIPTION', 'label', '__index_level_0__'],\n",
      "        num_rows: 73514\n",
      "    })\n",
      "    test: Dataset({\n",
      "        features: ['DESCRIPTION', 'label', '__index_level_0__'],\n",
      "        num_rows: 18379\n",
      "    })\n",
      "})\n"
     ]
    }
   ],
   "execution_count": 29
  },
  {
   "metadata": {
    "ExecuteTime": {
     "end_time": "2025-04-01T13:47:52.465861Z",
     "start_time": "2025-04-01T13:47:39.040333Z"
    }
   },
   "cell_type": "code",
   "source": [
    "# Load pre-trained DistilBERT tokenizer\n",
    "tokenizer = DistilBertTokenizerFast.from_pretrained(\"distilbert-base-uncased\")\n",
    "\n",
    "def tokenize(batch):\n",
    "    texts = [str(text) if text is not None else \"\" for text in batch['DESCRIPTION']]\n",
    "    # tokenize text with padding and truncate for consistent input length\n",
    "    return tokenizer(texts, padding=\"max_length\", truncation=True)\n",
    "\n",
    "# Apply function to the dataset\n",
    "dataset = dataset.map(tokenize, batched=True)\n",
    "\n",
    "# Remove 'DESCRIPTION' column, as it's not needed after tokenization\n",
    "dataset = dataset.remove_columns(['DESCRIPTION'])\n",
    "\n",
    "# Set the format of the dataset to PyTorch tensors\n",
    "dataset.set_format(\"torch\")"
   ],
   "id": "afe75d99902997d2",
   "outputs": [
    {
     "name": "stderr",
     "output_type": "stream",
     "text": [
      "                                                                   \r"
     ]
    }
   ],
   "execution_count": 30
  },
  {
   "metadata": {},
   "cell_type": "markdown",
   "source": "## Setup Model Training",
   "id": "1c3eebbbc5542cfa"
  },
  {
   "metadata": {
    "ExecuteTime": {
     "end_time": "2025-04-01T13:47:52.473862Z",
     "start_time": "2025-04-01T13:47:52.469862Z"
    }
   },
   "cell_type": "code",
   "source": [
    "# Check GPU availability\n",
    "if torch.cuda.is_available():\n",
    "    print(f\"GPU: {torch.cuda.get_device_name(0)} is available.\")\n",
    "else:\n",
    "    print(\"No GPU available. Training will run on CPU.\")"
   ],
   "id": "cf4a09a085b85fed",
   "outputs": [
    {
     "name": "stdout",
     "output_type": "stream",
     "text": [
      "GPU: NVIDIA GeForce RTX 4070 Ti is available.\n"
     ]
    }
   ],
   "execution_count": 31
  },
  {
   "metadata": {
    "ExecuteTime": {
     "end_time": "2025-04-01T13:47:52.487863Z",
     "start_time": "2025-04-01T13:47:52.483861Z"
    }
   },
   "cell_type": "code",
   "source": [
    "device = torch.device(\"cuda\" if torch.cuda.is_available() else \"cpu\")\n",
    "print(device) # cuda == GPU usage"
   ],
   "id": "bdb7cb5cb9d1505f",
   "outputs": [
    {
     "name": "stdout",
     "output_type": "stream",
     "text": [
      "cuda\n"
     ]
    }
   ],
   "execution_count": 32
  },
  {
   "metadata": {},
   "cell_type": "markdown",
   "source": "## Train model",
   "id": "60f8451d18c25f80"
  },
  {
   "metadata": {
    "ExecuteTime": {
     "end_time": "2025-04-01T14:09:23.279008Z",
     "start_time": "2025-04-01T13:47:52.501867Z"
    }
   },
   "cell_type": "code",
   "source": [
    "# Load the pre-trained DistilBERT model for sequence classification\n",
    "# + specify num_labels (number of unique topics)\n",
    "model = DistilBertForSequenceClassification.from_pretrained(\"distilbert-base-uncased\", num_labels=len(label_encoder.classes_))\n",
    "\n",
    "training_args = TrainingArguments(\n",
    "    output_dir=\"./results\", # directory where model/checkpoints are saved\n",
    "    evaluation_strategy=\"epoch\", # evaluate at the end of epoch\n",
    "    save_strategy=\"epoch\", # save model each epoch\n",
    "    learning_rate=2e-5,\n",
    "    per_device_train_batch_size=16, # consumes about 7GB of VRAM\n",
    "    per_device_eval_batch_size=16,\n",
    "    num_train_epochs=2, # two training epochs\n",
    "    weight_decay=0.01,# weight decay to prevent overfitting\n",
    "    logging_dir=\"./logs\",\n",
    "    logging_steps=10, # log each ten steps\n",
    "    no_cuda=False, # force gpu usage\n",
    "    fp16=True, # mixed precision to speed up training\n",
    ")\n",
    "\n",
    "trainer = Trainer(\n",
    "    model=model,\n",
    "    args=training_args,\n",
    "    train_dataset=dataset[\"train\"],\n",
    "    eval_dataset=dataset[\"test\"]\n",
    ")\n",
    "\n",
    "# Start training the model\n",
    "trainer.train()"
   ],
   "id": "f754b63b1ef69433",
   "outputs": [
    {
     "name": "stderr",
     "output_type": "stream",
     "text": [
      "Some weights of DistilBertForSequenceClassification were not initialized from the model checkpoint at distilbert-base-uncased and are newly initialized: ['classifier.bias', 'pre_classifier.weight', 'pre_classifier.bias', 'classifier.weight']\n",
      "You should probably TRAIN this model on a down-stream task to be able to use it for predictions and inference.\n"
     ]
    },
    {
     "data": {
      "text/plain": [
       "<IPython.core.display.HTML object>"
      ],
      "text/html": [
       "\n",
       "    <div>\n",
       "      \n",
       "      <progress value='9190' max='9190' style='width:300px; height:20px; vertical-align: middle;'></progress>\n",
       "      [9190/9190 21:29, Epoch 2/2]\n",
       "    </div>\n",
       "    <table border=\"1\" class=\"dataframe\">\n",
       "  <thead>\n",
       " <tr style=\"text-align: left;\">\n",
       "      <th>Epoch</th>\n",
       "      <th>Training Loss</th>\n",
       "      <th>Validation Loss</th>\n",
       "    </tr>\n",
       "  </thead>\n",
       "  <tbody>\n",
       "    <tr>\n",
       "      <td>1</td>\n",
       "      <td>0.230800</td>\n",
       "      <td>0.218945</td>\n",
       "    </tr>\n",
       "    <tr>\n",
       "      <td>2</td>\n",
       "      <td>0.069700</td>\n",
       "      <td>0.231831</td>\n",
       "    </tr>\n",
       "  </tbody>\n",
       "</table><p>"
      ]
     },
     "metadata": {},
     "output_type": "display_data"
    },
    {
     "data": {
      "text/plain": [
       "TrainOutput(global_step=9190, training_loss=0.22332028450365296, metrics={'train_runtime': 1289.9374, 'train_samples_per_second': 113.981, 'train_steps_per_second': 7.124, 'total_flos': 1.9477806026563584e+16, 'train_loss': 0.22332028450365296, 'epoch': 2.0})"
      ]
     },
     "execution_count": 33,
     "metadata": {},
     "output_type": "execute_result"
    }
   ],
   "execution_count": 33
  },
  {
   "metadata": {
    "ExecuteTime": {
     "end_time": "2025-04-01T14:09:23.601931Z",
     "start_time": "2025-04-01T14:09:23.338515Z"
    }
   },
   "cell_type": "code",
   "source": [
    "# Save final model\n",
    "model.save_pretrained(\"./final_model\")\n",
    "tokenizer.save_pretrained(\"./final_model\")"
   ],
   "id": "3b284b69eb8e3c27",
   "outputs": [
    {
     "data": {
      "text/plain": [
       "('./final_model\\\\tokenizer_config.json',\n",
       " './final_model\\\\special_tokens_map.json',\n",
       " './final_model\\\\vocab.txt',\n",
       " './final_model\\\\added_tokens.json',\n",
       " './final_model\\\\tokenizer.json')"
      ]
     },
     "execution_count": 34,
     "metadata": {},
     "output_type": "execute_result"
    }
   ],
   "execution_count": 34
  },
  {
   "metadata": {},
   "cell_type": "markdown",
   "source": "## Test trained model",
   "id": "98b34a16d9234d45"
  },
  {
   "metadata": {
    "ExecuteTime": {
     "end_time": "2025-04-01T14:09:24.010500Z",
     "start_time": "2025-04-01T14:09:23.607931Z"
    }
   },
   "cell_type": "code",
   "source": [
    "# Load saved model\n",
    "saved_model = DistilBertForSequenceClassification.from_pretrained(\"./final_model\", num_labels=len(label_encoder.classes_))\n",
    "\n",
    "# Load saved tokenizer\n",
    "tokenizer = DistilBertTokenizerFast.from_pretrained(\"./final_model\")\n",
    "\n",
    "# Set device to GPU if available, otherwise use CPU\n",
    "device = torch.device(\"cuda\" if torch.cuda.is_available() else \"cpu\")\n",
    "\n",
    "# Move model to chosen device (GPU or CPU)\n",
    "saved_model.to(device)"
   ],
   "id": "d2a14c3d1e6a168c",
   "outputs": [
    {
     "data": {
      "text/plain": [
       "DistilBertForSequenceClassification(\n",
       "  (distilbert): DistilBertModel(\n",
       "    (embeddings): Embeddings(\n",
       "      (word_embeddings): Embedding(30522, 768, padding_idx=0)\n",
       "      (position_embeddings): Embedding(512, 768)\n",
       "      (LayerNorm): LayerNorm((768,), eps=1e-12, elementwise_affine=True)\n",
       "      (dropout): Dropout(p=0.1, inplace=False)\n",
       "    )\n",
       "    (transformer): Transformer(\n",
       "      (layer): ModuleList(\n",
       "        (0-5): 6 x TransformerBlock(\n",
       "          (attention): MultiHeadSelfAttention(\n",
       "            (dropout): Dropout(p=0.1, inplace=False)\n",
       "            (q_lin): Linear(in_features=768, out_features=768, bias=True)\n",
       "            (k_lin): Linear(in_features=768, out_features=768, bias=True)\n",
       "            (v_lin): Linear(in_features=768, out_features=768, bias=True)\n",
       "            (out_lin): Linear(in_features=768, out_features=768, bias=True)\n",
       "          )\n",
       "          (sa_layer_norm): LayerNorm((768,), eps=1e-12, elementwise_affine=True)\n",
       "          (ffn): FFN(\n",
       "            (dropout): Dropout(p=0.1, inplace=False)\n",
       "            (lin1): Linear(in_features=768, out_features=3072, bias=True)\n",
       "            (lin2): Linear(in_features=3072, out_features=768, bias=True)\n",
       "            (activation): GELUActivation()\n",
       "          )\n",
       "          (output_layer_norm): LayerNorm((768,), eps=1e-12, elementwise_affine=True)\n",
       "        )\n",
       "      )\n",
       "    )\n",
       "  )\n",
       "  (pre_classifier): Linear(in_features=768, out_features=768, bias=True)\n",
       "  (classifier): Linear(in_features=768, out_features=6, bias=True)\n",
       "  (dropout): Dropout(p=0.2, inplace=False)\n",
       ")"
      ]
     },
     "execution_count": 35,
     "metadata": {},
     "output_type": "execute_result"
    }
   ],
   "execution_count": 35
  },
  {
   "metadata": {
    "ExecuteTime": {
     "end_time": "2025-04-01T14:09:24.036197Z",
     "start_time": "2025-04-01T14:09:24.029194Z"
    }
   },
   "cell_type": "code",
   "source": [
    "def predict_topic(description):\n",
    "    # Tokenize the description\n",
    "    inputs = tokenizer(description, padding=True, truncation=True, return_tensors=\"pt\")\n",
    "\n",
    "    # Move inputs to the device (GPU or CPU)\n",
    "    inputs = {key: value.to(device) for key, value in inputs.items()}\n",
    "\n",
    "    # Get the model's logits (raw prediction scores)\n",
    "    with torch.no_grad():\n",
    "        logits = saved_model(**inputs).logits\n",
    "\n",
    "    # Get the predicted label (index of the maximum logit)\n",
    "    predicted_label_idx = torch.argmax(logits, dim=-1).item()\n",
    "\n",
    "    # Convert the label index to the topic name using the label_encoder\n",
    "    predicted_label = label_encoder.inverse_transform([predicted_label_idx])[0]\n",
    "\n",
    "    return predicted_label\n",
    "\n",
    "def predict_top_3(description):\n",
    "    # Tokenize the input description\n",
    "    inputs = tokenizer(description, padding=True, truncation=True, return_tensors=\"pt\")\n",
    "\n",
    "    # Move inputs to the device (GPU or CPU)\n",
    "    inputs = {key: value.to(device) for key, value in inputs.items()}\n",
    "\n",
    "    # Get the model's logits (raw prediction scores)\n",
    "    with torch.no_grad():\n",
    "        logits = saved_model(**inputs).logits\n",
    "\n",
    "    # Get the top 3 predictions based on the logits (softmax to get probabilities)\n",
    "    probs = torch.nn.functional.softmax(logits, dim=-1)\n",
    "\n",
    "    # Get top 3 predictions\n",
    "    top_3_values, top_3_indices = torch.topk(probs, 3, dim=-1)\n",
    "\n",
    "    # Convert to numpy and get the predicted labels\n",
    "    top_3_values = top_3_values.cpu().numpy().flatten()  # Get probabilities\n",
    "    top_3_indices = top_3_indices.cpu().numpy().flatten()  # Get indices of the topics\n",
    "\n",
    "    top_3_topics = label_encoder.inverse_transform(top_3_indices)\n",
    "\n",
    "    return list(zip(top_3_topics, top_3_values))"
   ],
   "id": "dfc716c62be2941f",
   "outputs": [],
   "execution_count": 36
  },
  {
   "metadata": {},
   "cell_type": "markdown",
   "source": "## Test model prediction",
   "id": "1947f5b76e561c49"
  },
  {
   "metadata": {
    "ExecuteTime": {
     "end_time": "2025-04-01T14:09:24.112390Z",
     "start_time": "2025-04-01T14:09:24.039198Z"
    }
   },
   "cell_type": "code",
   "source": [
    "new_description = \"A thrilling adventure set in a fantastical world.\"\n",
    "predicted_topic = predict_topic(new_description)\n",
    "predicted_top_3 = predict_top_3(new_description)\n",
    "\n",
    "print(f\"The predicted topic for the description is: {predicted_topic}\")\n",
    "for topic, prob in predicted_top_3:\n",
    "    print(f\"{topic}: {prob:.4f} %\")"
   ],
   "id": "bde3ae40fb62c18f",
   "outputs": [
    {
     "name": "stdout",
     "output_type": "stream",
     "text": [
      "The predicted topic for the description is: Children’s Books\n",
      "Children’s Books: 0.9850 %\n",
      "Young Adult: 0.0091 %\n",
      "Fiction: 0.0054 %\n"
     ]
    }
   ],
   "execution_count": 37
  }
 ],
 "metadata": {
  "kernelspec": {
   "display_name": "Python 3",
   "language": "python",
   "name": "python3"
  },
  "language_info": {
   "codemirror_mode": {
    "name": "ipython",
    "version": 2
   },
   "file_extension": ".py",
   "mimetype": "text/x-python",
   "name": "python",
   "nbconvert_exporter": "python",
   "pygments_lexer": "ipython2",
   "version": "2.7.6"
  }
 },
 "nbformat": 4,
 "nbformat_minor": 5
}
