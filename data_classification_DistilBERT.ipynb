{
 "cells": [
  {
   "cell_type": "code",
   "id": "initial_id",
   "metadata": {
    "collapsed": true,
    "ExecuteTime": {
     "end_time": "2025-04-02T18:58:56.598687Z",
     "start_time": "2025-04-02T18:58:56.593686Z"
    }
   },
   "source": [
    "import matplotlib.pyplot as plt\n",
    "import seaborn as sns\n",
    "import os\n",
    "from sklearn.model_selection import train_test_split\n",
    "from sklearn.preprocessing import LabelEncoder\n",
    "from sklearn.metrics import classification_report, accuracy_score, confusion_matrix, f1_score\n",
    "from utilities import load_data_basic_cleanup\n",
    "from transformers import Trainer, TrainingArguments, DistilBertTokenizerFast, DistilBertForSequenceClassification\n",
    "from datasets import Dataset, DatasetDict\n",
    "import torch\n",
    "import warnings\n",
    "warnings.filterwarnings(\"ignore\", category=FutureWarning) # supress FutureWarning\n",
    "\n",
    "# Flag to use Saved-Pretrained Model\n",
    "# Link to pretrained model: https://drive.google.com/drive/folders/1fCoFBVs3e2MSVL8I9qOfv2CQcq54aRnb?usp=sharing\n",
    "# Please download the entire final_model folder and place it in the root of this project\n",
    "flag_load_backup = True\n",
    "\n",
    "model_exists = False\n",
    "if os.path.exists('./final_model/pytorch_model.bin'):\n",
    "    model_exists = True\n",
    "    print(\"Pretrained Model found\")"
   ],
   "outputs": [
    {
     "name": "stdout",
     "output_type": "stream",
     "text": [
      "Pretrained Model found\n"
     ]
    }
   ],
   "execution_count": 28
  },
  {
   "metadata": {},
   "cell_type": "markdown",
   "source": "## Load Data",
   "id": "de3fa5af176961b7"
  },
  {
   "metadata": {
    "ExecuteTime": {
     "end_time": "2025-04-02T18:59:26.519992Z",
     "start_time": "2025-04-02T18:58:56.610687Z"
    }
   },
   "cell_type": "code",
   "source": [
    "# Load clean data\n",
    "df = load_data_basic_cleanup()"
   ],
   "id": "fe6bc5ade67ff20d",
   "outputs": [
    {
     "name": "stdout",
     "output_type": "stream",
     "text": [
      "Warning: One row was deleted, because 'DESCRIPTION' is empty.\n"
     ]
    }
   ],
   "execution_count": 29
  },
  {
   "metadata": {
    "ExecuteTime": {
     "end_time": "2025-04-02T18:59:26.547135Z",
     "start_time": "2025-04-02T18:59:26.539997Z"
    }
   },
   "cell_type": "code",
   "source": [
    "# Look at topic distribution\n",
    "df['TOPIC_MAIN'].value_counts()"
   ],
   "id": "ed8aed2680690ca",
   "outputs": [
    {
     "data": {
      "text/plain": [
       "TOPIC_MAIN\n",
       "Nonfiction          31910\n",
       "Fiction             30686\n",
       "Children’s Books    19643\n",
       "Young Adult          3749\n",
       "Classics             3199\n",
       "Humor                1450\n",
       "Poetry               1256\n",
       "Name: count, dtype: int64"
      ]
     },
     "execution_count": 30,
     "metadata": {},
     "output_type": "execute_result"
    }
   ],
   "execution_count": 30
  },
  {
   "metadata": {
    "ExecuteTime": {
     "end_time": "2025-04-02T18:59:26.585839Z",
     "start_time": "2025-04-02T18:59:26.580839Z"
    }
   },
   "cell_type": "code",
   "source": [
    "# Ensure data is consistent\n",
    "print(f\"{df['TOPIC_MAIN'].value_counts().sum()} == {df.shape[0]}\")"
   ],
   "id": "e3b61ad3345e26ab",
   "outputs": [
    {
     "name": "stdout",
     "output_type": "stream",
     "text": [
      "91893 == 91893\n"
     ]
    }
   ],
   "execution_count": 31
  },
  {
   "metadata": {
    "ExecuteTime": {
     "end_time": "2025-04-02T18:59:26.632843Z",
     "start_time": "2025-04-02T18:59:26.619840Z"
    }
   },
   "cell_type": "code",
   "source": [
    "# Split dataset into train and test\n",
    "train_df, test_df = train_test_split(df[['DESCRIPTION', 'TOPIC_MAIN']], test_size=0.2, random_state=42, shuffle=True)"
   ],
   "id": "85bec54d58ca2b40",
   "outputs": [],
   "execution_count": 32
  },
  {
   "metadata": {
    "ExecuteTime": {
     "end_time": "2025-04-02T18:59:26.668362Z",
     "start_time": "2025-04-02T18:59:26.665363Z"
    }
   },
   "cell_type": "code",
   "source": [
    "print(train_df.shape) # (73515, 3)\n",
    "print(test_df.shape) # (18379, 3)"
   ],
   "id": "20392e698fe50dd",
   "outputs": [
    {
     "name": "stdout",
     "output_type": "stream",
     "text": [
      "(73514, 2)\n",
      "(18379, 2)\n"
     ]
    }
   ],
   "execution_count": 33
  },
  {
   "metadata": {
    "ExecuteTime": {
     "end_time": "2025-04-02T18:59:26.704365Z",
     "start_time": "2025-04-02T18:59:26.698364Z"
    }
   },
   "cell_type": "code",
   "source": "train_df",
   "id": "568a6fb6a05c0660",
   "outputs": [
    {
     "data": {
      "text/plain": [
       "                                             DESCRIPTION        TOPIC_MAIN\n",
       "63724  This daring, star-packed collection is the fan...           Fiction\n",
       "14608  With her soft heart and angelic face, Madeline...           Fiction\n",
       "72346  NEW YORK TIMES BESTSELLER * A deeply affecting...        Nonfiction\n",
       "12024  ONE CHILL EVENING IN BETHLEHEM, young Naomi he...  Children’s Books\n",
       "16203  All original stories about the return of Cthul...           Fiction\n",
       "...                                                  ...               ...\n",
       "6265   Following a wild and raging storm, the Swiss f...  Children’s Books\n",
       "54886  A family-focused guidebook to Italy for travel...        Nonfiction\n",
       "76820  A single volume of the most beautiful texts by...            Poetry\n",
       "860    The Truth Chasers Book Three. Someone's trying...           Fiction\n",
       "15795  ISABEL DALHOUSIE - Book 8 Nothing captures the...           Fiction\n",
       "\n",
       "[73514 rows x 2 columns]"
      ],
      "text/html": [
       "<div>\n",
       "<style scoped>\n",
       "    .dataframe tbody tr th:only-of-type {\n",
       "        vertical-align: middle;\n",
       "    }\n",
       "\n",
       "    .dataframe tbody tr th {\n",
       "        vertical-align: top;\n",
       "    }\n",
       "\n",
       "    .dataframe thead th {\n",
       "        text-align: right;\n",
       "    }\n",
       "</style>\n",
       "<table border=\"1\" class=\"dataframe\">\n",
       "  <thead>\n",
       "    <tr style=\"text-align: right;\">\n",
       "      <th></th>\n",
       "      <th>DESCRIPTION</th>\n",
       "      <th>TOPIC_MAIN</th>\n",
       "    </tr>\n",
       "  </thead>\n",
       "  <tbody>\n",
       "    <tr>\n",
       "      <th>63724</th>\n",
       "      <td>This daring, star-packed collection is the fan...</td>\n",
       "      <td>Fiction</td>\n",
       "    </tr>\n",
       "    <tr>\n",
       "      <th>14608</th>\n",
       "      <td>With her soft heart and angelic face, Madeline...</td>\n",
       "      <td>Fiction</td>\n",
       "    </tr>\n",
       "    <tr>\n",
       "      <th>72346</th>\n",
       "      <td>NEW YORK TIMES BESTSELLER * A deeply affecting...</td>\n",
       "      <td>Nonfiction</td>\n",
       "    </tr>\n",
       "    <tr>\n",
       "      <th>12024</th>\n",
       "      <td>ONE CHILL EVENING IN BETHLEHEM, young Naomi he...</td>\n",
       "      <td>Children’s Books</td>\n",
       "    </tr>\n",
       "    <tr>\n",
       "      <th>16203</th>\n",
       "      <td>All original stories about the return of Cthul...</td>\n",
       "      <td>Fiction</td>\n",
       "    </tr>\n",
       "    <tr>\n",
       "      <th>...</th>\n",
       "      <td>...</td>\n",
       "      <td>...</td>\n",
       "    </tr>\n",
       "    <tr>\n",
       "      <th>6265</th>\n",
       "      <td>Following a wild and raging storm, the Swiss f...</td>\n",
       "      <td>Children’s Books</td>\n",
       "    </tr>\n",
       "    <tr>\n",
       "      <th>54886</th>\n",
       "      <td>A family-focused guidebook to Italy for travel...</td>\n",
       "      <td>Nonfiction</td>\n",
       "    </tr>\n",
       "    <tr>\n",
       "      <th>76820</th>\n",
       "      <td>A single volume of the most beautiful texts by...</td>\n",
       "      <td>Poetry</td>\n",
       "    </tr>\n",
       "    <tr>\n",
       "      <th>860</th>\n",
       "      <td>The Truth Chasers Book Three. Someone's trying...</td>\n",
       "      <td>Fiction</td>\n",
       "    </tr>\n",
       "    <tr>\n",
       "      <th>15795</th>\n",
       "      <td>ISABEL DALHOUSIE - Book 8 Nothing captures the...</td>\n",
       "      <td>Fiction</td>\n",
       "    </tr>\n",
       "  </tbody>\n",
       "</table>\n",
       "<p>73514 rows × 2 columns</p>\n",
       "</div>"
      ]
     },
     "execution_count": 34,
     "metadata": {},
     "output_type": "execute_result"
    }
   ],
   "execution_count": 34
  },
  {
   "metadata": {
    "ExecuteTime": {
     "end_time": "2025-04-02T18:59:26.745374Z",
     "start_time": "2025-04-02T18:59:26.738367Z"
    }
   },
   "cell_type": "code",
   "source": "test_df",
   "id": "fc02c00d1b3ad8c5",
   "outputs": [
    {
     "data": {
      "text/plain": [
       "                                             DESCRIPTION        TOPIC_MAIN\n",
       "62081  This lexicon of modern Western philosophical c...        Nonfiction\n",
       "18176  Emily-and her new band, the Strangers-won the ...  Children’s Books\n",
       "19140  A perfect graudation gift all about growing up...  Children’s Books\n",
       "16534  Even a bookish big sister is drawn in by the p...  Children’s Books\n",
       "21974  Where Can You Find the Kind of Love You Truly ...        Nonfiction\n",
       "...                                                  ...               ...\n",
       "458    In a small, dusty town in India, Sripathi Rao ...           Fiction\n",
       "25026  The Limits to Capital provides one of the best...        Nonfiction\n",
       "73035  How climate change will affect our political t...        Nonfiction\n",
       "43431  When a woman's body washes up on the shore of ...           Fiction\n",
       "46734  This book takes the reader on a fantastic jour...        Nonfiction\n",
       "\n",
       "[18379 rows x 2 columns]"
      ],
      "text/html": [
       "<div>\n",
       "<style scoped>\n",
       "    .dataframe tbody tr th:only-of-type {\n",
       "        vertical-align: middle;\n",
       "    }\n",
       "\n",
       "    .dataframe tbody tr th {\n",
       "        vertical-align: top;\n",
       "    }\n",
       "\n",
       "    .dataframe thead th {\n",
       "        text-align: right;\n",
       "    }\n",
       "</style>\n",
       "<table border=\"1\" class=\"dataframe\">\n",
       "  <thead>\n",
       "    <tr style=\"text-align: right;\">\n",
       "      <th></th>\n",
       "      <th>DESCRIPTION</th>\n",
       "      <th>TOPIC_MAIN</th>\n",
       "    </tr>\n",
       "  </thead>\n",
       "  <tbody>\n",
       "    <tr>\n",
       "      <th>62081</th>\n",
       "      <td>This lexicon of modern Western philosophical c...</td>\n",
       "      <td>Nonfiction</td>\n",
       "    </tr>\n",
       "    <tr>\n",
       "      <th>18176</th>\n",
       "      <td>Emily-and her new band, the Strangers-won the ...</td>\n",
       "      <td>Children’s Books</td>\n",
       "    </tr>\n",
       "    <tr>\n",
       "      <th>19140</th>\n",
       "      <td>A perfect graudation gift all about growing up...</td>\n",
       "      <td>Children’s Books</td>\n",
       "    </tr>\n",
       "    <tr>\n",
       "      <th>16534</th>\n",
       "      <td>Even a bookish big sister is drawn in by the p...</td>\n",
       "      <td>Children’s Books</td>\n",
       "    </tr>\n",
       "    <tr>\n",
       "      <th>21974</th>\n",
       "      <td>Where Can You Find the Kind of Love You Truly ...</td>\n",
       "      <td>Nonfiction</td>\n",
       "    </tr>\n",
       "    <tr>\n",
       "      <th>...</th>\n",
       "      <td>...</td>\n",
       "      <td>...</td>\n",
       "    </tr>\n",
       "    <tr>\n",
       "      <th>458</th>\n",
       "      <td>In a small, dusty town in India, Sripathi Rao ...</td>\n",
       "      <td>Fiction</td>\n",
       "    </tr>\n",
       "    <tr>\n",
       "      <th>25026</th>\n",
       "      <td>The Limits to Capital provides one of the best...</td>\n",
       "      <td>Nonfiction</td>\n",
       "    </tr>\n",
       "    <tr>\n",
       "      <th>73035</th>\n",
       "      <td>How climate change will affect our political t...</td>\n",
       "      <td>Nonfiction</td>\n",
       "    </tr>\n",
       "    <tr>\n",
       "      <th>43431</th>\n",
       "      <td>When a woman's body washes up on the shore of ...</td>\n",
       "      <td>Fiction</td>\n",
       "    </tr>\n",
       "    <tr>\n",
       "      <th>46734</th>\n",
       "      <td>This book takes the reader on a fantastic jour...</td>\n",
       "      <td>Nonfiction</td>\n",
       "    </tr>\n",
       "  </tbody>\n",
       "</table>\n",
       "<p>18379 rows × 2 columns</p>\n",
       "</div>"
      ]
     },
     "execution_count": 35,
     "metadata": {},
     "output_type": "execute_result"
    }
   ],
   "execution_count": 35
  },
  {
   "metadata": {
    "ExecuteTime": {
     "end_time": "2025-04-02T18:59:26.823888Z",
     "start_time": "2025-04-02T18:59:26.807887Z"
    }
   },
   "cell_type": "code",
   "source": [
    "# Convert categorical labels (topics) to numerical values\n",
    "label_encoder = LabelEncoder()\n",
    "train_df['label'] = label_encoder.fit_transform(train_df['TOPIC_MAIN'])\n",
    "test_df['label'] = label_encoder.transform(test_df['TOPIC_MAIN'])\n",
    "train_df.head()"
   ],
   "id": "dd570c5a692945ed",
   "outputs": [
    {
     "data": {
      "text/plain": [
       "                                             DESCRIPTION        TOPIC_MAIN  \\\n",
       "63724  This daring, star-packed collection is the fan...           Fiction   \n",
       "14608  With her soft heart and angelic face, Madeline...           Fiction   \n",
       "72346  NEW YORK TIMES BESTSELLER * A deeply affecting...        Nonfiction   \n",
       "12024  ONE CHILL EVENING IN BETHLEHEM, young Naomi he...  Children’s Books   \n",
       "16203  All original stories about the return of Cthul...           Fiction   \n",
       "\n",
       "       label  \n",
       "63724      2  \n",
       "14608      2  \n",
       "72346      4  \n",
       "12024      0  \n",
       "16203      2  "
      ],
      "text/html": [
       "<div>\n",
       "<style scoped>\n",
       "    .dataframe tbody tr th:only-of-type {\n",
       "        vertical-align: middle;\n",
       "    }\n",
       "\n",
       "    .dataframe tbody tr th {\n",
       "        vertical-align: top;\n",
       "    }\n",
       "\n",
       "    .dataframe thead th {\n",
       "        text-align: right;\n",
       "    }\n",
       "</style>\n",
       "<table border=\"1\" class=\"dataframe\">\n",
       "  <thead>\n",
       "    <tr style=\"text-align: right;\">\n",
       "      <th></th>\n",
       "      <th>DESCRIPTION</th>\n",
       "      <th>TOPIC_MAIN</th>\n",
       "      <th>label</th>\n",
       "    </tr>\n",
       "  </thead>\n",
       "  <tbody>\n",
       "    <tr>\n",
       "      <th>63724</th>\n",
       "      <td>This daring, star-packed collection is the fan...</td>\n",
       "      <td>Fiction</td>\n",
       "      <td>2</td>\n",
       "    </tr>\n",
       "    <tr>\n",
       "      <th>14608</th>\n",
       "      <td>With her soft heart and angelic face, Madeline...</td>\n",
       "      <td>Fiction</td>\n",
       "      <td>2</td>\n",
       "    </tr>\n",
       "    <tr>\n",
       "      <th>72346</th>\n",
       "      <td>NEW YORK TIMES BESTSELLER * A deeply affecting...</td>\n",
       "      <td>Nonfiction</td>\n",
       "      <td>4</td>\n",
       "    </tr>\n",
       "    <tr>\n",
       "      <th>12024</th>\n",
       "      <td>ONE CHILL EVENING IN BETHLEHEM, young Naomi he...</td>\n",
       "      <td>Children’s Books</td>\n",
       "      <td>0</td>\n",
       "    </tr>\n",
       "    <tr>\n",
       "      <th>16203</th>\n",
       "      <td>All original stories about the return of Cthul...</td>\n",
       "      <td>Fiction</td>\n",
       "      <td>2</td>\n",
       "    </tr>\n",
       "  </tbody>\n",
       "</table>\n",
       "</div>"
      ]
     },
     "execution_count": 36,
     "metadata": {},
     "output_type": "execute_result"
    }
   ],
   "execution_count": 36
  },
  {
   "metadata": {
    "ExecuteTime": {
     "end_time": "2025-04-02T18:59:27.143475Z",
     "start_time": "2025-04-02T18:59:27.039950Z"
    }
   },
   "cell_type": "code",
   "source": [
    "if not (flag_load_backup and model_exists):\n",
    "    # Convert Pandas DataFrames to HuggingFace Dataset-format\n",
    "    dataset = DatasetDict({\n",
    "        'train': Dataset.from_pandas(train_df[['DESCRIPTION', 'label']]),\n",
    "        'test': Dataset.from_pandas(test_df[['DESCRIPTION', 'label']])\n",
    "    })\n",
    "    print(dataset)"
   ],
   "id": "39f263639a2dbce2",
   "outputs": [
    {
     "name": "stdout",
     "output_type": "stream",
     "text": [
      "DatasetDict({\n",
      "    train: Dataset({\n",
      "        features: ['DESCRIPTION', 'label', '__index_level_0__'],\n",
      "        num_rows: 73514\n",
      "    })\n",
      "    test: Dataset({\n",
      "        features: ['DESCRIPTION', 'label', '__index_level_0__'],\n",
      "        num_rows: 18379\n",
      "    })\n",
      "})\n"
     ]
    }
   ],
   "execution_count": 37
  },
  {
   "metadata": {},
   "cell_type": "markdown",
   "source": "## Tokenize data",
   "id": "404f55287e7de30"
  },
  {
   "metadata": {
    "ExecuteTime": {
     "end_time": "2025-04-02T18:59:41.579872Z",
     "start_time": "2025-04-02T18:59:27.167985Z"
    }
   },
   "cell_type": "code",
   "source": [
    "if not (flag_load_backup and model_exists):\n",
    "    # Load pre-trained DistilBERT tokenizer\n",
    "    tokenizer = DistilBertTokenizerFast.from_pretrained(\"distilbert-base-uncased\")\n",
    "\n",
    "    def tokenize(batch):\n",
    "        texts = [str(text) if text is not None else \"\" for text in batch['DESCRIPTION']]\n",
    "        # tokenize text with padding and truncate for consistent input length\n",
    "        return tokenizer(texts, padding=\"max_length\", truncation=True)\n",
    "\n",
    "    # Apply function to the dataset\n",
    "    dataset = dataset.map(tokenize, batched=True)\n",
    "\n",
    "    # Remove 'DESCRIPTION' column, as it's not needed after tokenization\n",
    "    dataset = dataset.remove_columns(['DESCRIPTION'])\n",
    "\n",
    "    # Set the format of the dataset to PyTorch tensors\n",
    "    dataset.set_format(\"torch\")"
   ],
   "id": "afe75d99902997d2",
   "outputs": [
    {
     "name": "stderr",
     "output_type": "stream",
     "text": [
      "                                                                   \r"
     ]
    }
   ],
   "execution_count": 38
  },
  {
   "metadata": {},
   "cell_type": "markdown",
   "source": "## Setup Model Training",
   "id": "1c3eebbbc5542cfa"
  },
  {
   "metadata": {
    "ExecuteTime": {
     "end_time": "2025-04-02T18:59:41.588872Z",
     "start_time": "2025-04-02T18:59:41.583872Z"
    }
   },
   "cell_type": "code",
   "source": [
    "if not (flag_load_backup and model_exists):\n",
    "    # Check GPU availability\n",
    "    if torch.cuda.is_available():\n",
    "        print(f\"GPU: {torch.cuda.get_device_name(0)} is available.\")\n",
    "    else:\n",
    "        print(\"No GPU available. Training will run on CPU.\")"
   ],
   "id": "cf4a09a085b85fed",
   "outputs": [
    {
     "name": "stdout",
     "output_type": "stream",
     "text": [
      "GPU: NVIDIA GeForce RTX 4070 Ti is available.\n"
     ]
    }
   ],
   "execution_count": 39
  },
  {
   "metadata": {
    "ExecuteTime": {
     "end_time": "2025-04-02T18:59:41.612875Z",
     "start_time": "2025-04-02T18:59:41.607873Z"
    }
   },
   "cell_type": "code",
   "source": [
    "if not (flag_load_backup and model_exists):\n",
    "    device = torch.device(\"cuda\" if torch.cuda.is_available() else \"cpu\")\n",
    "    print(device) # cuda == GPU usage"
   ],
   "id": "bdb7cb5cb9d1505f",
   "outputs": [
    {
     "name": "stdout",
     "output_type": "stream",
     "text": [
      "cuda\n"
     ]
    }
   ],
   "execution_count": 40
  },
  {
   "metadata": {},
   "cell_type": "markdown",
   "source": "## Train model",
   "id": "60f8451d18c25f80"
  },
  {
   "metadata": {
    "ExecuteTime": {
     "end_time": "2025-04-02T19:21:51.740940Z",
     "start_time": "2025-04-02T18:59:41.640876Z"
    }
   },
   "cell_type": "code",
   "source": [
    "if not (flag_load_backup and model_exists):\n",
    "    # Load the pre-trained DistilBERT model for sequence classification\n",
    "    # + specify num_labels (number of unique topics)\n",
    "    model = DistilBertForSequenceClassification.from_pretrained(\"distilbert-base-uncased\", num_labels=len(label_encoder.classes_))\n",
    "\n",
    "    training_args = TrainingArguments(\n",
    "        output_dir=\"./results\", # directory where model/checkpoints are saved\n",
    "        evaluation_strategy=\"epoch\", # evaluate at the end of epoch\n",
    "        save_strategy=\"epoch\", # save model each epoch\n",
    "        learning_rate=2e-5,\n",
    "        per_device_train_batch_size=16, # consumes about 7GB of VRAM\n",
    "        per_device_eval_batch_size=16,\n",
    "        num_train_epochs=2, # 2 training epochs\n",
    "        weight_decay=0.01, # weight decay to prevent overfitting\n",
    "        logging_dir=\"./logs\",\n",
    "        logging_steps=10, # log each ten steps\n",
    "        no_cuda=False, # force gpu usage\n",
    "        fp16=True, # mixed precision to speed up training\n",
    "    )\n",
    "\n",
    "    trainer = Trainer(\n",
    "        model=model,\n",
    "        args=training_args,\n",
    "        train_dataset=dataset[\"train\"],\n",
    "        eval_dataset=dataset[\"test\"],\n",
    "    )\n",
    "\n",
    "    # Start training the model\n",
    "    trainer.train()"
   ],
   "id": "f754b63b1ef69433",
   "outputs": [
    {
     "name": "stderr",
     "output_type": "stream",
     "text": [
      "Some weights of the model checkpoint at distilbert-base-uncased were not used when initializing DistilBertForSequenceClassification: ['vocab_layer_norm.weight', 'vocab_projector.bias', 'vocab_layer_norm.bias', 'vocab_transform.bias', 'vocab_transform.weight']\n",
      "- This IS expected if you are initializing DistilBertForSequenceClassification from the checkpoint of a model trained on another task or with another architecture (e.g. initializing a BertForSequenceClassification model from a BertForPreTraining model).\n",
      "- This IS NOT expected if you are initializing DistilBertForSequenceClassification from the checkpoint of a model that you expect to be exactly identical (initializing a BertForSequenceClassification model from a BertForSequenceClassification model).\n",
      "Some weights of DistilBertForSequenceClassification were not initialized from the model checkpoint at distilbert-base-uncased and are newly initialized: ['pre_classifier.bias', 'classifier.bias', 'classifier.weight', 'pre_classifier.weight']\n",
      "You should probably TRAIN this model on a down-stream task to be able to use it for predictions and inference.\n"
     ]
    },
    {
     "data": {
      "text/plain": [
       "<IPython.core.display.HTML object>"
      ],
      "text/html": [
       "\n",
       "    <div>\n",
       "      \n",
       "      <progress value='9190' max='9190' style='width:300px; height:20px; vertical-align: middle;'></progress>\n",
       "      [9190/9190 22:08, Epoch 2/2]\n",
       "    </div>\n",
       "    <table border=\"1\" class=\"dataframe\">\n",
       "  <thead>\n",
       " <tr style=\"text-align: left;\">\n",
       "      <th>Epoch</th>\n",
       "      <th>Training Loss</th>\n",
       "      <th>Validation Loss</th>\n",
       "    </tr>\n",
       "  </thead>\n",
       "  <tbody>\n",
       "    <tr>\n",
       "      <td>1</td>\n",
       "      <td>0.280900</td>\n",
       "      <td>0.252577</td>\n",
       "    </tr>\n",
       "    <tr>\n",
       "      <td>2</td>\n",
       "      <td>0.116800</td>\n",
       "      <td>0.266864</td>\n",
       "    </tr>\n",
       "  </tbody>\n",
       "</table><p>"
      ]
     },
     "metadata": {},
     "output_type": "display_data"
    }
   ],
   "execution_count": 41
  },
  {
   "metadata": {},
   "cell_type": "markdown",
   "source": "## Evaluate model",
   "id": "c94c3cc63a58087"
  },
  {
   "metadata": {
    "ExecuteTime": {
     "end_time": "2025-04-02T19:22:30.856759Z",
     "start_time": "2025-04-02T19:21:51.836220Z"
    }
   },
   "cell_type": "code",
   "source": [
    "if not (flag_load_backup and model_exists):\n",
    "    # Evaluate model on test set\n",
    "    trainer.evaluate()"
   ],
   "id": "cc5742e4aa19cea3",
   "outputs": [
    {
     "data": {
      "text/plain": [
       "<IPython.core.display.HTML object>"
      ],
      "text/html": []
     },
     "metadata": {},
     "output_type": "display_data"
    }
   ],
   "execution_count": 42
  },
  {
   "metadata": {
    "ExecuteTime": {
     "end_time": "2025-04-02T19:23:14.266772Z",
     "start_time": "2025-04-02T19:22:30.865267Z"
    }
   },
   "cell_type": "code",
   "source": [
    "if not (flag_load_backup and model_exists):\n",
    "    # Generate predictions on the test set\n",
    "    predictions = trainer.predict(dataset[\"test\"])\n",
    "\n",
    "    # Extract the predictions and labels\n",
    "    preds = predictions.predictions.argmax(-1)  # Get predicted class labels\n",
    "    labels = predictions.label_ids # Get true labels"
   ],
   "id": "db7dd47f818cdba8",
   "outputs": [],
   "execution_count": 43
  },
  {
   "metadata": {
    "ExecuteTime": {
     "end_time": "2025-04-02T19:23:14.296626Z",
     "start_time": "2025-04-02T19:23:14.279734Z"
    }
   },
   "cell_type": "code",
   "source": [
    "if not (flag_load_backup and model_exists):\n",
    "    # Generate classification report\n",
    "    report = classification_report(labels, preds, target_names=label_encoder.classes_)  # Ensure label names are included\n",
    "    accuracy = accuracy_score(labels, preds)\n",
    "\n",
    "\n",
    "    print(\"Classification Report - DistillBert:\\n\")\n",
    "    print(report)\n",
    "    print(f\"Accuracy: {accuracy:.4f}\")\n",
    "    print(\"Macro F1-Score:\", f1_score(labels, preds, average='macro'))"
   ],
   "id": "2f9b9e9ab1cf8a42",
   "outputs": [
    {
     "name": "stdout",
     "output_type": "stream",
     "text": [
      "Classification Report - DistillBert:\n",
      "\n",
      "                  precision    recall  f1-score   support\n",
      "\n",
      "Children’s Books       0.92      0.96      0.93      3912\n",
      "        Classics       0.81      0.71      0.75       648\n",
      "         Fiction       0.95      0.95      0.95      6096\n",
      "           Humor       0.71      0.52      0.60       272\n",
      "      Nonfiction       0.95      0.96      0.96      6426\n",
      "          Poetry       0.87      0.87      0.87       243\n",
      "     Young Adult       0.76      0.66      0.70       782\n",
      "\n",
      "        accuracy                           0.93     18379\n",
      "       macro avg       0.85      0.80      0.82     18379\n",
      "    weighted avg       0.92      0.93      0.92     18379\n",
      "\n",
      "Accuracy: 0.9257\n",
      "Macro F1-Score: 0.8233861552385638\n"
     ]
    }
   ],
   "execution_count": 44
  },
  {
   "metadata": {
    "ExecuteTime": {
     "end_time": "2025-04-02T19:23:15.132091Z",
     "start_time": "2025-04-02T19:23:14.313151Z"
    }
   },
   "cell_type": "code",
   "source": [
    "if not (flag_load_backup and model_exists):\n",
    "    # Generate + Visualize ConfusionMatrix\n",
    "    cm = confusion_matrix(labels, preds)\n",
    "\n",
    "    plt.figure(figsize=(10, 8))\n",
    "    sns.heatmap(cm, annot=True, fmt='d', cmap='Blues', xticklabels=label_encoder.classes_, yticklabels=label_encoder.classes_)\n",
    "    plt.title('Confusion Matrix')\n",
    "    plt.xlabel('Predicted Label')\n",
    "    plt.ylabel('True Label')\n",
    "    plt.xticks(rotation=45, ha=\"right\")\n",
    "    plt.yticks(rotation=45)\n",
    "    plt.show()"
   ],
   "id": "55a4d42c6c74072",
   "outputs": [
    {
     "data": {
      "text/plain": [
       "<Figure size 1000x800 with 2 Axes>"
      ],
      "image/png": "[encoded data removed]"
     },
     "metadata": {},
     "output_type": "display_data"
    }
   ],
   "execution_count": 45
  },
  {
   "metadata": {
    "ExecuteTime": {
     "end_time": "2025-04-02T19:23:15.594037Z",
     "start_time": "2025-04-02T19:23:15.164136Z"
    }
   },
   "cell_type": "code",
   "source": [
    "if not (flag_load_backup and model_exists):\n",
    "    # Save final model\n",
    "    model.save_pretrained(\"./final_model\")\n",
    "    tokenizer.save_pretrained(\"./final_model\")"
   ],
   "id": "3b284b69eb8e3c27",
   "outputs": [],
   "execution_count": 46
  },
  {
   "metadata": {},
   "cell_type": "markdown",
   "source": "## Test trained model",
   "id": "98b34a16d9234d45"
  },
  {
   "metadata": {
    "ExecuteTime": {
     "end_time": "2025-04-02T19:23:16.233407Z",
     "start_time": "2025-04-02T19:23:15.598547Z"
    }
   },
   "cell_type": "code",
   "source": [
    "# Load saved model\n",
    "saved_model = DistilBertForSequenceClassification.from_pretrained(\"./final_model\", num_labels=len(label_encoder.classes_))\n",
    "\n",
    "# Load saved tokenizer\n",
    "tokenizer = DistilBertTokenizerFast.from_pretrained(\"./final_model\")\n",
    "\n",
    "# Set device to GPU if available, otherwise use CPU\n",
    "device = torch.device(\"cuda\" if torch.cuda.is_available() else \"cpu\")\n",
    "\n",
    "# Move model to chosen device (GPU or CPU)\n",
    "saved_model.to(device)"
   ],
   "id": "d2a14c3d1e6a168c",
   "outputs": [
    {
     "data": {
      "text/plain": [
       "DistilBertForSequenceClassification(\n",
       "  (distilbert): DistilBertModel(\n",
       "    (embeddings): Embeddings(\n",
       "      (word_embeddings): Embedding(30522, 768, padding_idx=0)\n",
       "      (position_embeddings): Embedding(512, 768)\n",
       "      (LayerNorm): LayerNorm((768,), eps=1e-12, elementwise_affine=True)\n",
       "      (dropout): Dropout(p=0.1, inplace=False)\n",
       "    )\n",
       "    (transformer): Transformer(\n",
       "      (layer): ModuleList(\n",
       "        (0-5): 6 x TransformerBlock(\n",
       "          (attention): MultiHeadSelfAttention(\n",
       "            (dropout): Dropout(p=0.1, inplace=False)\n",
       "            (q_lin): Linear(in_features=768, out_features=768, bias=True)\n",
       "            (k_lin): Linear(in_features=768, out_features=768, bias=True)\n",
       "            (v_lin): Linear(in_features=768, out_features=768, bias=True)\n",
       "            (out_lin): Linear(in_features=768, out_features=768, bias=True)\n",
       "          )\n",
       "          (sa_layer_norm): LayerNorm((768,), eps=1e-12, elementwise_affine=True)\n",
       "          (ffn): FFN(\n",
       "            (dropout): Dropout(p=0.1, inplace=False)\n",
       "            (lin1): Linear(in_features=768, out_features=3072, bias=True)\n",
       "            (lin2): Linear(in_features=3072, out_features=768, bias=True)\n",
       "            (activation): GELUActivation()\n",
       "          )\n",
       "          (output_layer_norm): LayerNorm((768,), eps=1e-12, elementwise_affine=True)\n",
       "        )\n",
       "      )\n",
       "    )\n",
       "  )\n",
       "  (pre_classifier): Linear(in_features=768, out_features=768, bias=True)\n",
       "  (classifier): Linear(in_features=768, out_features=7, bias=True)\n",
       "  (dropout): Dropout(p=0.2, inplace=False)\n",
       ")"
      ]
     },
     "execution_count": 47,
     "metadata": {},
     "output_type": "execute_result"
    }
   ],
   "execution_count": 47
  },
  {
   "metadata": {
    "ExecuteTime": {
     "end_time": "2025-04-02T19:23:16.252014Z",
     "start_time": "2025-04-02T19:23:16.246917Z"
    }
   },
   "cell_type": "code",
   "source": [
    "def predict_top_3(description):\n",
    "    # Tokenize the input description\n",
    "    inputs = tokenizer(description, padding=True, truncation=True, return_tensors=\"pt\")\n",
    "\n",
    "    # Move inputs to the device (GPU or CPU)\n",
    "    inputs = {key: value.to(device) for key, value in inputs.items()}\n",
    "\n",
    "    # Get the model's logits (raw prediction scores)\n",
    "    with torch.no_grad():\n",
    "        logits = saved_model(**inputs).logits\n",
    "\n",
    "    # Get the top 3 predictions based on the logits (softmax to get probabilities)\n",
    "    probs = torch.nn.functional.softmax(logits, dim=-1)\n",
    "\n",
    "    # Get top 3 predictions\n",
    "    top_3_values, top_3_indices = torch.topk(probs, 3, dim=-1)\n",
    "\n",
    "    # Convert to numpy and get the predicted labels\n",
    "    top_3_values = top_3_values.cpu().numpy().flatten()  # Get probabilities\n",
    "    top_3_indices = top_3_indices.cpu().numpy().flatten()  # Get indices of the topics\n",
    "\n",
    "    top_3_topics = label_encoder.inverse_transform(top_3_indices)\n",
    "\n",
    "    return list(zip(top_3_topics, top_3_values))"
   ],
   "id": "dfc716c62be2941f",
   "outputs": [],
   "execution_count": 48
  },
  {
   "metadata": {},
   "cell_type": "markdown",
   "source": "## Test model prediction",
   "id": "1947f5b76e561c49"
  },
  {
   "metadata": {
    "ExecuteTime": {
     "end_time": "2025-04-02T19:23:16.276804Z",
     "start_time": "2025-04-02T19:23:16.266118Z"
    }
   },
   "cell_type": "code",
   "source": [
    "new_description = \"A thrilling adventure about a young hero discovering magic.\"\n",
    "predicted_top_3 = predict_top_3(new_description)\n",
    "\n",
    "print(\"Topics (Sorted according to similarities):\")\n",
    "for topic, prob in predicted_top_3:\n",
    "    print(f\"{topic}: {prob:.4f} %\")"
   ],
   "id": "bde3ae40fb62c18f",
   "outputs": [
    {
     "name": "stdout",
     "output_type": "stream",
     "text": [
      "Topics (Sorted according to similarities):\n",
      "Children’s Books: 0.9965 %\n",
      "Young Adult: 0.0023 %\n",
      "Fiction: 0.0006 %\n"
     ]
    }
   ],
   "execution_count": 49
  },
  {
   "metadata": {
    "ExecuteTime": {
     "end_time": "2025-04-02T19:23:16.300780Z",
     "start_time": "2025-04-02T19:23:16.290273Z"
    }
   },
   "cell_type": "code",
   "source": [
    "new_description = \"A thrilling adventure about a hero discovering magic.\"\n",
    "predicted_top_3 = predict_top_3(new_description)\n",
    "\n",
    "print(\"Topics (Sorted according to similarities):\")\n",
    "for topic, prob in predicted_top_3:\n",
    "    print(f\"{topic}: {prob:.4f} %\")"
   ],
   "id": "e1a231870ef0e1d",
   "outputs": [
    {
     "name": "stdout",
     "output_type": "stream",
     "text": [
      "Topics (Sorted according to similarities):\n",
      "Children’s Books: 0.9969 %\n",
      "Young Adult: 0.0020 %\n",
      "Fiction: 0.0006 %\n"
     ]
    }
   ],
   "execution_count": 50
  },
  {
   "metadata": {
    "ExecuteTime": {
     "end_time": "2025-04-02T19:23:16.323872Z",
     "start_time": "2025-04-02T19:23:16.314848Z"
    }
   },
   "cell_type": "code",
   "source": [
    "new_description = \"A thrilling adventure about a hero discovering America.\"\n",
    "predicted_top_3 = predict_top_3(new_description)\n",
    "\n",
    "print(\"Topics (Sorted according to similarities):\")\n",
    "for topic, prob in predicted_top_3:\n",
    "    print(f\"{topic}: {prob:.4f} %\")"
   ],
   "id": "d26e5754db19e1b",
   "outputs": [
    {
     "name": "stdout",
     "output_type": "stream",
     "text": [
      "Topics (Sorted according to similarities):\n",
      "Children’s Books: 0.9878 %\n",
      "Young Adult: 0.0087 %\n",
      "Fiction: 0.0023 %\n"
     ]
    }
   ],
   "execution_count": 51
  },
  {
   "metadata": {
    "ExecuteTime": {
     "end_time": "2025-04-02T19:23:16.346898Z",
     "start_time": "2025-04-02T19:23:16.336892Z"
    }
   },
   "cell_type": "code",
   "source": [
    "new_description = \"A story about America.\"\n",
    "predicted_top_3 = predict_top_3(new_description)\n",
    "\n",
    "print(\"Topics (Sorted according to similarities):\")\n",
    "for topic, prob in predicted_top_3:\n",
    "    print(f\"{topic}: {prob:.4f} %\")"
   ],
   "id": "25d385d56561d912",
   "outputs": [
    {
     "name": "stdout",
     "output_type": "stream",
     "text": [
      "Topics (Sorted according to similarities):\n",
      "Fiction: 0.4837 %\n",
      "Children’s Books: 0.3043 %\n",
      "Young Adult: 0.1766 %\n"
     ]
    }
   ],
   "execution_count": 52
  },
  {
   "metadata": {
    "ExecuteTime": {
     "end_time": "2025-04-02T19:23:16.368941Z",
     "start_time": "2025-04-02T19:23:16.365430Z"
    }
   },
   "cell_type": "code",
   "source": "",
   "id": "c3957eac1e6f05c8",
   "outputs": [],
   "execution_count": null
  }
 ],
 "metadata": {
  "kernelspec": {
   "display_name": "Python 3",
   "language": "python",
   "name": "python3"
  },
  "language_info": {
   "codemirror_mode": {
    "name": "ipython",
    "version": 2
   },
   "file_extension": ".py",
   "mimetype": "text/x-python",
   "name": "python",
   "nbconvert_exporter": "python",
   "pygments_lexer": "ipython2",
   "version": "2.7.6"
  }
 },
 "nbformat": 4,
 "nbformat_minor": 5
}
