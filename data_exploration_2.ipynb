{
 "cells": [
  {
   "cell_type": "code",
   "id": "initial_id",
   "metadata": {
    "collapsed": true,
    "ExecuteTime": {
     "end_time": "2025-03-23T15:43:05.220004Z",
     "start_time": "2025-03-23T15:43:05.201886Z"
    }
   },
   "source": [
    "import pandas as pd\n",
    "import numpy as np\n",
    "import matplotlib.pyplot as plt\n",
    "import os\n",
    "import sys\n",
    "from utilities import read_xml"
   ],
   "outputs": [],
   "execution_count": 26
  },
  {
   "metadata": {
    "ExecuteTime": {
     "end_time": "2025-03-23T15:43:13.229018Z",
     "start_time": "2025-03-23T15:43:05.227742Z"
    }
   },
   "cell_type": "code",
   "source": [
    "# Import\n",
    "PATH_DEV = os.path.join(os.getcwd(), 'origdata', 'BlurbGenreCollection_EN_dev.txt')\n",
    "PATH_TEST = os.path.join(os.getcwd(), 'origdata', 'BlurbGenreCollection_EN_test.txt')\n",
    "PATH_TRAIN = os.path.join(os.getcwd(), 'origdata', 'BlurbGenreCollection_EN_train.txt')\n",
    "\n",
    "df_train = read_xml(PATH_TRAIN)\n",
    "df_test = read_xml(PATH_TEST)\n",
    "df_dev = read_xml(PATH_DEV)\n",
    "\n",
    "frames = [df_train, df_test, df_dev]\n",
    "df = pd.concat(frames)\n"
   ],
   "id": "a7fb6d29d92f5dad",
   "outputs": [],
   "execution_count": 27
  },
  {
   "metadata": {
    "ExecuteTime": {
     "end_time": "2025-03-23T15:43:13.292376Z",
     "start_time": "2025-03-23T15:43:13.278246Z"
    }
   },
   "cell_type": "code",
   "source": "df.head()",
   "id": "2f42a03cfc968272",
   "outputs": [
    {
     "data": {
      "text/plain": [
       "                                               TITLE              AUTHOR  \\\n",
       "0  The New York Times Daily Crossword Puzzles: Th...      New York Times   \n",
       "1            Creatures of the Night (Second Edition)         Neil Gaiman   \n",
       "2  Cornelia and the Audacious Escapades of the So...  Lesley M. M. Blume   \n",
       "3                           The Alchemist's Daughter   Katharine McMahon   \n",
       "4                                      Dangerous Boy       Mandy Hubbard   \n",
       "\n",
       "       PUBLISHED           ISBN    PAGE_NUM  \\\n",
       "0  Dec 28, 1996   9780804115827   224 Pages   \n",
       "1  Nov 29, 2016   9781506700250    48 Pages   \n",
       "2  Jan 08, 2008   9780440421108   272 Pages   \n",
       "3  Oct 24, 2006   9780307335852   352 Pages   \n",
       "4  Aug 30, 2012   9781101575017   272 Pages   \n",
       "\n",
       "                                                 URL  \\\n",
       "0  https://www.penguinrandomhouse.com/books/12309...   \n",
       "1  https://www.penguinrandomhouse.com/books/53958...   \n",
       "2  https://www.penguinrandomhouse.com/books/15160...   \n",
       "3  https://www.penguinrandomhouse.com/books/11223...   \n",
       "4  https://www.penguinrandomhouse.com/books/30534...   \n",
       "\n",
       "                                              TOPICS  \\\n",
       "0                                  Nonfiction, Games   \n",
       "1                     Fiction, Graphic Novels  Manga   \n",
       "2    Children’s Books, Children’s Middle Grade Books   \n",
       "3                        Fiction, Historical Fiction   \n",
       "4  Teen  Young Adult, Teen  Young Adult Mystery  ...   \n",
       "\n",
       "                  COPYRIGHT  \\\n",
       "0  (c) Penguin Random House   \n",
       "1  (c) Penguin Random House   \n",
       "2  (c) Penguin Random House   \n",
       "3  (c) Penguin Random House   \n",
       "4  (c) Penguin Random House   \n",
       "\n",
       "                                         DESCRIPTION        DATE LANGUAGE  \n",
       "0  Monday’s Crosswords Do with EaseTuesday’s Cros...  2018-08-18       en  \n",
       "1  Two of literary comics modern masters present ...  2018-08-18       en  \n",
       "2  Eleven-year-old Cornelia is the daughter of tw...  2018-08-18       en  \n",
       "3  During the English Age of Reason, a woman cloi...  2018-08-18       en  \n",
       "4  A modern-day retelling of The Strange Case of ...  2018-08-18       en  "
      ],
      "text/html": [
       "<div>\n",
       "<style scoped>\n",
       "    .dataframe tbody tr th:only-of-type {\n",
       "        vertical-align: middle;\n",
       "    }\n",
       "\n",
       "    .dataframe tbody tr th {\n",
       "        vertical-align: top;\n",
       "    }\n",
       "\n",
       "    .dataframe thead th {\n",
       "        text-align: right;\n",
       "    }\n",
       "</style>\n",
       "<table border=\"1\" class=\"dataframe\">\n",
       "  <thead>\n",
       "    <tr style=\"text-align: right;\">\n",
       "      <th></th>\n",
       "      <th>TITLE</th>\n",
       "      <th>AUTHOR</th>\n",
       "      <th>PUBLISHED</th>\n",
       "      <th>ISBN</th>\n",
       "      <th>PAGE_NUM</th>\n",
       "      <th>URL</th>\n",
       "      <th>TOPICS</th>\n",
       "      <th>COPYRIGHT</th>\n",
       "      <th>DESCRIPTION</th>\n",
       "      <th>DATE</th>\n",
       "      <th>LANGUAGE</th>\n",
       "    </tr>\n",
       "  </thead>\n",
       "  <tbody>\n",
       "    <tr>\n",
       "      <th>0</th>\n",
       "      <td>The New York Times Daily Crossword Puzzles: Th...</td>\n",
       "      <td>New York Times</td>\n",
       "      <td>Dec 28, 1996</td>\n",
       "      <td>9780804115827</td>\n",
       "      <td>224 Pages</td>\n",
       "      <td>https://www.penguinrandomhouse.com/books/12309...</td>\n",
       "      <td>Nonfiction, Games</td>\n",
       "      <td>(c) Penguin Random House</td>\n",
       "      <td>Monday’s Crosswords Do with EaseTuesday’s Cros...</td>\n",
       "      <td>2018-08-18</td>\n",
       "      <td>en</td>\n",
       "    </tr>\n",
       "    <tr>\n",
       "      <th>1</th>\n",
       "      <td>Creatures of the Night (Second Edition)</td>\n",
       "      <td>Neil Gaiman</td>\n",
       "      <td>Nov 29, 2016</td>\n",
       "      <td>9781506700250</td>\n",
       "      <td>48 Pages</td>\n",
       "      <td>https://www.penguinrandomhouse.com/books/53958...</td>\n",
       "      <td>Fiction, Graphic Novels  Manga</td>\n",
       "      <td>(c) Penguin Random House</td>\n",
       "      <td>Two of literary comics modern masters present ...</td>\n",
       "      <td>2018-08-18</td>\n",
       "      <td>en</td>\n",
       "    </tr>\n",
       "    <tr>\n",
       "      <th>2</th>\n",
       "      <td>Cornelia and the Audacious Escapades of the So...</td>\n",
       "      <td>Lesley M. M. Blume</td>\n",
       "      <td>Jan 08, 2008</td>\n",
       "      <td>9780440421108</td>\n",
       "      <td>272 Pages</td>\n",
       "      <td>https://www.penguinrandomhouse.com/books/15160...</td>\n",
       "      <td>Children’s Books, Children’s Middle Grade Books</td>\n",
       "      <td>(c) Penguin Random House</td>\n",
       "      <td>Eleven-year-old Cornelia is the daughter of tw...</td>\n",
       "      <td>2018-08-18</td>\n",
       "      <td>en</td>\n",
       "    </tr>\n",
       "    <tr>\n",
       "      <th>3</th>\n",
       "      <td>The Alchemist's Daughter</td>\n",
       "      <td>Katharine McMahon</td>\n",
       "      <td>Oct 24, 2006</td>\n",
       "      <td>9780307335852</td>\n",
       "      <td>352 Pages</td>\n",
       "      <td>https://www.penguinrandomhouse.com/books/11223...</td>\n",
       "      <td>Fiction, Historical Fiction</td>\n",
       "      <td>(c) Penguin Random House</td>\n",
       "      <td>During the English Age of Reason, a woman cloi...</td>\n",
       "      <td>2018-08-18</td>\n",
       "      <td>en</td>\n",
       "    </tr>\n",
       "    <tr>\n",
       "      <th>4</th>\n",
       "      <td>Dangerous Boy</td>\n",
       "      <td>Mandy Hubbard</td>\n",
       "      <td>Aug 30, 2012</td>\n",
       "      <td>9781101575017</td>\n",
       "      <td>272 Pages</td>\n",
       "      <td>https://www.penguinrandomhouse.com/books/30534...</td>\n",
       "      <td>Teen  Young Adult, Teen  Young Adult Mystery  ...</td>\n",
       "      <td>(c) Penguin Random House</td>\n",
       "      <td>A modern-day retelling of The Strange Case of ...</td>\n",
       "      <td>2018-08-18</td>\n",
       "      <td>en</td>\n",
       "    </tr>\n",
       "  </tbody>\n",
       "</table>\n",
       "</div>"
      ]
     },
     "execution_count": 28,
     "metadata": {},
     "output_type": "execute_result"
    }
   ],
   "execution_count": 28
  },
  {
   "metadata": {
    "ExecuteTime": {
     "end_time": "2025-03-23T15:43:13.387557Z",
     "start_time": "2025-03-23T15:43:13.367540Z"
    }
   },
   "cell_type": "code",
   "source": [
    "# Basic Statistic\n",
    "\n",
    "print('Number of samples: ', df.shape[0])\n",
    "print('Number of columns: ', df.shape[1])\n",
    "print('Columns: ', ', '.join(df.columns))"
   ],
   "id": "814477b39533a310",
   "outputs": [
    {
     "name": "stdout",
     "output_type": "stream",
     "text": [
      "Number of samples:  91894\n",
      "Number of columns:  11\n",
      "Columns:  TITLE, AUTHOR, PUBLISHED, ISBN, PAGE_NUM, URL, TOPICS, COPYRIGHT, DESCRIPTION, DATE, LANGUAGE\n"
     ]
    }
   ],
   "execution_count": 29
  },
  {
   "metadata": {
    "ExecuteTime": {
     "end_time": "2025-03-23T15:43:13.552187Z",
     "start_time": "2025-03-23T15:43:13.452250Z"
    }
   },
   "cell_type": "code",
   "source": [
    "df[\"AUTHOR\"].value_counts()\n",
    "# DK (Dorling Kindersley) - 1022 - British publishing company\n",
    "# Golden Books - 445 - children's books series\n",
    "# Random House - 234 - an imprint and publishing group of Penguin Random House\n",
    "# Louis L'Amour - American author renowned for his western novels"
   ],
   "id": "b9b98d92de09b5f7",
   "outputs": [
    {
     "data": {
      "text/plain": [
       "AUTHOR\n",
       "DK                                            1022\n",
       "Various                                        445\n",
       "Golden Books                                   251\n",
       "Random House                                   234\n",
       "Louis L'Amour                                  234\n",
       "                                              ... \n",
       "Peter Mansfield                                  1\n",
       "Jarett Kobek                                     1\n",
       "Roger Fisher, William L. Ury, Bruce Patton       1\n",
       "Amy Finley                                       1\n",
       "Ches Schneider                                   1\n",
       "Name: count, Length: 35928, dtype: int64"
      ]
     },
     "execution_count": 30,
     "metadata": {},
     "output_type": "execute_result"
    }
   ],
   "execution_count": 30
  },
  {
   "metadata": {
    "ExecuteTime": {
     "end_time": "2025-03-23T15:43:13.775740Z",
     "start_time": "2025-03-23T15:43:13.630424Z"
    }
   },
   "cell_type": "code",
   "source": [
    "df.isnull().sum()\n",
    "# 2364 Authors missing"
   ],
   "id": "33f6d24979619de4",
   "outputs": [
    {
     "data": {
      "text/plain": [
       "TITLE             0\n",
       "AUTHOR         2364\n",
       "PUBLISHED         0\n",
       "ISBN              0\n",
       "PAGE_NUM          0\n",
       "URL               0\n",
       "TOPICS            0\n",
       "COPYRIGHT         0\n",
       "DESCRIPTION       0\n",
       "DATE              0\n",
       "LANGUAGE          0\n",
       "dtype: int64"
      ]
     },
     "execution_count": 31,
     "metadata": {},
     "output_type": "execute_result"
    }
   ],
   "execution_count": 31
  },
  {
   "metadata": {
    "ExecuteTime": {
     "end_time": "2025-03-23T15:43:13.903132Z",
     "start_time": "2025-03-23T15:43:13.874228Z"
    }
   },
   "cell_type": "code",
   "source": "df[\"TOPICS\"].value_counts()",
   "id": "9688e564e30e8d96",
   "outputs": [
    {
     "data": {
      "text/plain": [
       "TOPICS\n",
       "Children’s Books                                                                                            11375\n",
       "Children’s Books, Children’s Middle Grade Books                                                              5156\n",
       "Fiction, Graphic Novels  Manga                                                                               3793\n",
       "Fiction, Literary Fiction                                                                                    3098\n",
       "Religion, Nonfiction, Religion  Philosophy                                                                   2172\n",
       "                                                                                                            ...  \n",
       "World History, Religion, Nonfiction, Religion  Philosophy, History                                              1\n",
       "World History, Military History, World War II Military History, Asian World History, Nonfiction, History        1\n",
       "Management, Economics, Technology, Nonfiction, Business, Popular Science                                        1\n",
       "Science, Travel: USA  Canada, Nonfiction, Travel, Popular Science, Sports                                       1\n",
       "Contemporary Fantasy, Suspense  Thriller, Fiction, Paranormal Fiction, Fantasy, Mystery  Suspense               1\n",
       "Name: count, Length: 1654, dtype: int64"
      ]
     },
     "execution_count": 32,
     "metadata": {},
     "output_type": "execute_result"
    }
   ],
   "execution_count": 32
  },
  {
   "metadata": {
    "ExecuteTime": {
     "end_time": "2025-03-23T15:43:14.193659Z",
     "start_time": "2025-03-23T15:43:14.012517Z"
    }
   },
   "cell_type": "code",
   "source": [
    "all_topics = df[\"TOPICS\"].str.split(\", \").explode()\n",
    "all_topics.value_counts()"
   ],
   "id": "afadfd1066db8ec1",
   "outputs": [
    {
     "data": {
      "text/plain": [
       "TOPICS\n",
       "Nonfiction                       34270\n",
       "Fiction                          32812\n",
       "Children’s Books                 19792\n",
       "Mystery  Suspense                 8856\n",
       "Children’s Middle Grade Books     7728\n",
       "                                 ...  \n",
       "Travel: Middle East                 17\n",
       "Travel: Africa                      14\n",
       "Travel: Caribbean  Mexico           14\n",
       "Bibles                               5\n",
       "Travel: Australia  Oceania           5\n",
       "Name: count, Length: 146, dtype: int64"
      ]
     },
     "execution_count": 33,
     "metadata": {},
     "output_type": "execute_result"
    }
   ],
   "execution_count": 33
  },
  {
   "metadata": {
    "ExecuteTime": {
     "end_time": "2025-03-23T15:43:14.431720Z",
     "start_time": "2025-03-23T15:43:14.291721Z"
    }
   },
   "cell_type": "code",
   "source": "df.info() # all columns are objects...",
   "id": "91ddfd121408fb36",
   "outputs": [
    {
     "name": "stdout",
     "output_type": "stream",
     "text": [
      "<class 'pandas.core.frame.DataFrame'>\n",
      "Index: 91894 entries, 0 to 14784\n",
      "Data columns (total 11 columns):\n",
      " #   Column       Non-Null Count  Dtype \n",
      "---  ------       --------------  ----- \n",
      " 0   TITLE        91894 non-null  object\n",
      " 1   AUTHOR       89530 non-null  object\n",
      " 2   PUBLISHED    91894 non-null  object\n",
      " 3   ISBN         91894 non-null  object\n",
      " 4   PAGE_NUM     91894 non-null  object\n",
      " 5   URL          91894 non-null  object\n",
      " 6   TOPICS       91894 non-null  object\n",
      " 7   COPYRIGHT    91894 non-null  object\n",
      " 8   DESCRIPTION  91894 non-null  object\n",
      " 9   DATE         91894 non-null  object\n",
      " 10  LANGUAGE     91894 non-null  object\n",
      "dtypes: object(11)\n",
      "memory usage: 8.4+ MB\n"
     ]
    }
   ],
   "execution_count": 34
  },
  {
   "metadata": {
    "ExecuteTime": {
     "end_time": "2025-03-23T15:43:15.063223Z",
     "start_time": "2025-03-23T15:43:14.646751Z"
    }
   },
   "cell_type": "code",
   "source": [
    "df['PAGE_NUM'] = df['PAGE_NUM'].str.extract(r'(\\d+)').astype(int)\n",
    "df['PUBLISHED'] = pd.to_datetime(df['PUBLISHED'], errors='coerce')\n",
    "df['DATE'] = pd.to_datetime(df['DATE'], errors='coerce')"
   ],
   "id": "ae91926c1d5361e3",
   "outputs": [],
   "execution_count": 35
  },
  {
   "metadata": {
    "ExecuteTime": {
     "end_time": "2025-03-23T15:43:15.184820Z",
     "start_time": "2025-03-23T15:43:15.063223Z"
    }
   },
   "cell_type": "code",
   "source": "df.info()",
   "id": "b6725f8991a38e0a",
   "outputs": [
    {
     "name": "stdout",
     "output_type": "stream",
     "text": [
      "<class 'pandas.core.frame.DataFrame'>\n",
      "Index: 91894 entries, 0 to 14784\n",
      "Data columns (total 11 columns):\n",
      " #   Column       Non-Null Count  Dtype         \n",
      "---  ------       --------------  -----         \n",
      " 0   TITLE        91894 non-null  object        \n",
      " 1   AUTHOR       89530 non-null  object        \n",
      " 2   PUBLISHED    91894 non-null  datetime64[ns]\n",
      " 3   ISBN         91894 non-null  object        \n",
      " 4   PAGE_NUM     91894 non-null  int64         \n",
      " 5   URL          91894 non-null  object        \n",
      " 6   TOPICS       91894 non-null  object        \n",
      " 7   COPYRIGHT    91894 non-null  object        \n",
      " 8   DESCRIPTION  91894 non-null  object        \n",
      " 9   DATE         91894 non-null  datetime64[ns]\n",
      " 10  LANGUAGE     91894 non-null  object        \n",
      "dtypes: datetime64[ns](2), int64(1), object(8)\n",
      "memory usage: 8.4+ MB\n"
     ]
    }
   ],
   "execution_count": 36
  },
  {
   "metadata": {},
   "cell_type": "markdown",
   "source": "Try NLTK: https://www.nltk.org/",
   "id": "69c75a8b47f86599"
  },
  {
   "metadata": {
    "ExecuteTime": {
     "end_time": "2025-03-23T15:43:15.236626Z",
     "start_time": "2025-03-23T15:43:15.221734Z"
    }
   },
   "cell_type": "code",
   "source": [
    "import nltk\n",
    "from nltk.corpus import stopwords\n",
    "from nltk.stem import WordNetLemmatizer\n",
    "from nltk.tokenize import word_tokenize\n",
    "\n",
    "nltk.download('stopwords')\n",
    "nltk.download('punkt_tab')"
   ],
   "id": "a24e3f43342d2a8e",
   "outputs": [
    {
     "name": "stderr",
     "output_type": "stream",
     "text": [
      "[nltk_data] Downloading package stopwords to\n",
      "[nltk_data]     C:\\Users\\lolo7\\AppData\\Roaming\\nltk_data...\n",
      "[nltk_data]   Package stopwords is already up-to-date!\n",
      "[nltk_data] Downloading package punkt_tab to\n",
      "[nltk_data]     C:\\Users\\lolo7\\AppData\\Roaming\\nltk_data...\n",
      "[nltk_data]   Package punkt_tab is already up-to-date!\n"
     ]
    },
    {
     "data": {
      "text/plain": [
       "True"
      ]
     },
     "execution_count": 37,
     "metadata": {},
     "output_type": "execute_result"
    }
   ],
   "execution_count": 37
  },
  {
   "metadata": {
    "ExecuteTime": {
     "end_time": "2025-03-23T15:43:15.332057Z",
     "start_time": "2025-03-23T15:43:15.268572Z"
    }
   },
   "cell_type": "code",
   "source": "print(set(stopwords.words('english')))",
   "id": "de7113781ba3c05c",
   "outputs": [
    {
     "name": "stdout",
     "output_type": "stream",
     "text": [
      "{\"you'd\", 'during', 'herself', 'in', \"she'll\", 'against', 'wouldn', 'them', 'wasn', 'will', 'mustn', \"you're\", \"don't\", \"she'd\", 'm', 'after', 'me', 'than', 'as', \"shan't\", 'that', 'itself', 'then', 'while', 'when', 'most', 'himself', \"mustn't\", 'being', 'whom', 'we', 'your', 'now', 'hasn', 's', \"that'll\", 'at', 'such', \"they'll\", \"won't\", \"isn't\", \"wasn't\", 'didn', 'how', \"you'll\", 'her', 'theirs', 'there', \"i'm\", \"needn't\", 've', 'so', 'until', \"mightn't\", 'themselves', 'have', 'each', 'which', 'but', 'both', \"they're\", 'who', 'yourselves', 'doesn', 'some', 'all', \"he'll\", 'where', 'and', 'my', 'off', 't', 'he', 'here', 'd', 'has', 'shouldn', 'out', 'don', \"i'd\", 'just', 'our', 'were', 're', 'once', \"hasn't\", 'ma', \"shouldn't\", \"i've\", 'needn', 'did', 'mightn', 'or', 'can', 'before', 'isn', 'over', \"we've\", 'any', 'hers', 'no', \"doesn't\", 'yours', \"she's\", \"couldn't\", 'nor', \"haven't\", 'was', 'y', 'their', 'had', 'an', 'its', \"i'll\", 'with', \"aren't\", 'am', 'this', 'aren', 'she', 'is', 'own', \"should've\", 'a', \"didn't\", 'his', \"it's\", 'about', 'haven', 'these', 'below', 'do', 'under', 'ourselves', 'between', 'couldn', 'above', \"we'll\", 'too', \"you've\", 'o', 'up', \"he's\", 'does', 'few', 'myself', 'ain', 'been', 'by', 'to', 'shan', 'those', 'down', 'only', 'again', 'i', 'you', 'be', 'hadn', 'of', 'from', \"they'd\", 'because', \"he'd\", 'should', 'through', 'what', \"we're\", \"it'll\", 'not', 'won', 'having', 'into', 'why', \"hadn't\", 'weren', 'other', 'very', 'further', 'on', \"wouldn't\", 'him', 'more', 'ours', 'are', 'doing', \"weren't\", \"they've\", 'they', 'same', \"we'd\", 'll', 'the', \"it'd\", 'for', 'if', 'yourself', 'it'}\n"
     ]
    }
   ],
   "execution_count": 38
  },
  {
   "metadata": {
    "ExecuteTime": {
     "end_time": "2025-03-23T15:43:15.379848Z",
     "start_time": "2025-03-23T15:43:15.365697Z"
    }
   },
   "cell_type": "code",
   "source": [
    "data = \"Monday’s Crosswords Do with EaseTuesday’s Crosswords Not a BreezeWednesday’s Crosswords Harder StillThursday’s Crosswords Take Real SkillFriday’s Crosswords — You’ve Come This Far…Saturday’s Crosswords — You’re a Star!For millions of people, the New York Times crossword puzzles are as essential to each day as the first cup of coffee in the morning. Now, for the first time ever, these premier puzzles are available in six clever installments. With each day of the week, the puzzles increase gradually in skill level; Monday’s the easiest, but Saturday’s sure to challenge! Push your mental muscles a little harder each day with America’s favorite sophisticated — and fun — pastime: the New York Times crossword puzzles!The legendary Eugene T. Maleska was crossword editor of The New York Times from 1977 to 1993.\"\n",
    "stopWords = set(stopwords.words('english'))\n",
    "words = word_tokenize(data)\n",
    "wordsFiltered_nltk = [w for w in words if w not in stopWords]\n",
    "\n",
    "print(wordsFiltered_nltk)\n"
   ],
   "id": "2077a78ec6c143d1",
   "outputs": [
    {
     "name": "stdout",
     "output_type": "stream",
     "text": [
      "['Monday', '’', 'Crosswords', 'Do', 'EaseTuesday', '’', 'Crosswords', 'Not', 'BreezeWednesday', '’', 'Crosswords', 'Harder', 'StillThursday', '’', 'Crosswords', 'Take', 'Real', 'SkillFriday', '’', 'Crosswords', '—', 'You', '’', 'Come', 'This', 'Far…Saturday', '’', 'Crosswords', '—', 'You', '’', 'Star', '!', 'For', 'millions', 'people', ',', 'New', 'York', 'Times', 'crossword', 'puzzles', 'essential', 'day', 'first', 'cup', 'coffee', 'morning', '.', 'Now', ',', 'first', 'time', 'ever', ',', 'premier', 'puzzles', 'available', 'six', 'clever', 'installments', '.', 'With', 'day', 'week', ',', 'puzzles', 'increase', 'gradually', 'skill', 'level', ';', 'Monday', '’', 'easiest', ',', 'Saturday', '’', 'sure', 'challenge', '!', 'Push', 'mental', 'muscles', 'little', 'harder', 'day', 'America', '’', 'favorite', 'sophisticated', '—', 'fun', '—', 'pastime', ':', 'New', 'York', 'Times', 'crossword', 'puzzles', '!', 'The', 'legendary', 'Eugene', 'T.', 'Maleska', 'crossword', 'editor', 'The', 'New', 'York', 'Times', '1977', '1993', '.']\n"
     ]
    }
   ],
   "execution_count": 39
  },
  {
   "metadata": {},
   "cell_type": "markdown",
   "source": "Try spacy: https://spacy.io/usage",
   "id": "4440adf31230e0fb"
  },
  {
   "metadata": {
    "ExecuteTime": {
     "end_time": "2025-03-23T15:43:15.893600Z",
     "start_time": "2025-03-23T15:43:15.411653Z"
    }
   },
   "cell_type": "code",
   "source": [
    "import spacy\n",
    "# spacy.cli.download(\"en_core_web_sm\") # download once\n",
    "nlp = spacy.load(\"en_core_web_sm\")"
   ],
   "id": "1ec7c3937d52bb5",
   "outputs": [],
   "execution_count": 40
  },
  {
   "metadata": {
    "ExecuteTime": {
     "end_time": "2025-03-23T16:26:55.889932Z",
     "start_time": "2025-03-23T16:26:55.875878Z"
    }
   },
   "cell_type": "code",
   "source": "print(set(nlp.Defaults.stop_words))",
   "id": "29884c1ca8206aa8",
   "outputs": [
    {
     "name": "stdout",
     "output_type": "stream",
     "text": [
      "{'herself', 'during', 'namely', 'somehow', 'except', 'whereas', 'them', 'call', 'else', 'make', 'me', 'anyhow', 'than', 'serious', 'name', 'itself', 'amount', 'then', 'something', 'when', 'himself', 'every', 'whom', 'we', 'your', 'whose', 'now', 'noone', 'never', 'such', 'twenty', 'nine', 'may', 'how', 'eight', 'part', 'seemed', 'sixty', '‘re', 'there', 'nobody', 'latterly', 'themselves', 'three', 'former', 'which', 'since', 'some', 'hence', 'fifteen', 'all', 'where', \"n't\", 'off', 'seem', 'he', 'still', 'beyond', 'almost', 'became', 'therefore', 'has', 'out', 'whenever', 'forty', 'last', 'just', 'were', 're', 'well', 'sometime', 'whatever', 'along', 'using', 'even', 'herein', 'or', 'would', 'before', 'over', 'any', 'no', 'yours', '‘m', 'become', 'without', 'bottom', 'unless', 'first', 'ten', 'was', 'beforehand', 'keep', 'had', 'an', 'perhaps', 'thus', 'within', 'indeed', 'this', 'she', 'formerly', 'several', 'own', 'these', 'though', 'full', 'do', 'behind', 'ourselves', '‘d', 'might', 'between', 'ca', 'alone', 'among', 'latter', 'neither', 'meanwhile', 'few', 'various', 'nevertheless', 'been', 'by', '’ve', 'thru', 'to', 'n’t', 'four', 'two', 'anywhere', 'those', 'only', 'down', 'i', 'somewhere', '‘s', 'be', 'of', 'from', 'because', 'should', 'toward', 'fifty', 'not', \"'d\", 'really', 'anyone', 'whence', 'always', 'into', 'why', 'other', 'very', 'enough', 'front', 'otherwise', 'more', '’re', 'nothing', 'however', 'they', 'towards', 'rather', 'same', 'anyway', 'the', 'becomes', 'beside', 'for', 'get', 'another', 'third', 'nowhere', 'five', 'in', 'thereupon', 'against', '’ll', 'will', 'after', 'eleven', 'as', 'that', 'often', 'while', 'throughout', 'much', 'twelve', 'most', 'everyone', 'others', 'being', 'due', 'whole', 'hereby', 'elsewhere', 'used', 'none', 'next', 'at', \"'s\", 'many', 'say', 'per', 'cannot', 'her', 'least', 'must', 'whether', 'everything', 'therein', 'so', 'until', 'have', 'each', 'but', 'both', 'who', 'yourselves', 'my', 'and', '’m', 'made', 'afterwards', 'see', 'here', 'seems', 'wherever', 'could', 'our', 'one', 'once', 'although', 'did', \"'ll\", 'can', 'whereby', 'becoming', 'hers', 'top', 'mostly', 'nor', 'hereafter', 'n‘t', 'either', 'their', 'done', 'its', 'show', 'sometimes', 'with', 'am', 'move', 'someone', 'is', '‘ve', 'mine', 'besides', '‘ll', 'a', 'upon', 'his', \"'ve\", 'hundred', 'about', 'whither', 'whoever', 'below', 'empty', \"'m\", 'under', 'around', 'above', 'go', 'too', 'everywhere', 'up', 'onto', 'does', 'myself', 'whereafter', 'amongst', 'put', 'less', 'you', 'again', 'hereupon', 'us', 'take', 'through', 'what', 'please', '’d', 'together', 'via', 'seeming', 'already', 'further', 'on', 'thence', \"'re\", 'him', 'ours', 'also', 'thereby', 'across', 'are', 'doing', '’s', 'side', 'give', 'back', 'thereafter', 'moreover', 'ever', 'anything', 'wherein', 'quite', 'if', 'six', 'yet', 'regarding', 'whereupon', 'yourself', 'it'}\n"
     ]
    }
   ],
   "execution_count": 60
  },
  {
   "metadata": {
    "ExecuteTime": {
     "end_time": "2025-03-23T16:28:51.707084Z",
     "start_time": "2025-03-23T16:28:51.695025Z"
    }
   },
   "cell_type": "code",
   "source": [
    "nltk_stopwords = set(stopwords.words('english'))\n",
    "spacy_stopwords = set(nlp.Defaults.stop_words)\n",
    "\n",
    "nlp_not_in_nltk = spacy_stopwords - nltk_stopwords  # SpaCy stopwords not in NLTK\n",
    "nltk_not_in_nlp = nltk_stopwords - spacy_stopwords  # NLTK stopwords not in SpaCy\n",
    "common_stopwords = nltk_stopwords & spacy_stopwords   # Common stopwords\n",
    "\n",
    "print(\"Stopwords in NLTK but not in SpaCy:\", sorted(nltk_not_in_nlp))\n",
    "print(\"Stopwords in SpaCy but not in NLTK:\", sorted(nlp_not_in_nltk))\n",
    "print(\"Common stopwords:\", sorted(common_stopwords))"
   ],
   "id": "8f26852d7304b1ac",
   "outputs": [
    {
     "name": "stdout",
     "output_type": "stream",
     "text": [
      "Stopwords in NLTK but not in SpaCy: ['ain', 'aren', \"aren't\", 'couldn', \"couldn't\", 'd', 'didn', \"didn't\", 'doesn', \"doesn't\", 'don', \"don't\", 'hadn', \"hadn't\", 'hasn', \"hasn't\", 'haven', \"haven't\", 'having', \"he'd\", \"he'll\", \"he's\", \"i'd\", \"i'll\", \"i'm\", \"i've\", 'isn', \"isn't\", \"it'd\", \"it'll\", \"it's\", 'll', 'm', 'ma', 'mightn', \"mightn't\", 'mustn', \"mustn't\", 'needn', \"needn't\", 'o', 's', 'shan', \"shan't\", \"she'd\", \"she'll\", \"she's\", \"should've\", 'shouldn', \"shouldn't\", 't', \"that'll\", 'theirs', \"they'd\", \"they'll\", \"they're\", \"they've\", 've', 'wasn', \"wasn't\", \"we'd\", \"we'll\", \"we're\", \"we've\", 'weren', \"weren't\", 'won', \"won't\", 'wouldn', \"wouldn't\", 'y', \"you'd\", \"you'll\", \"you're\", \"you've\"]\n",
      "Stopwords in SpaCy but not in NLTK: [\"'d\", \"'ll\", \"'m\", \"'re\", \"'s\", \"'ve\", 'across', 'afterwards', 'almost', 'alone', 'along', 'already', 'also', 'although', 'always', 'among', 'amongst', 'amount', 'another', 'anyhow', 'anyone', 'anything', 'anyway', 'anywhere', 'around', 'back', 'became', 'become', 'becomes', 'becoming', 'beforehand', 'behind', 'beside', 'besides', 'beyond', 'bottom', 'ca', 'call', 'cannot', 'could', 'done', 'due', 'eight', 'either', 'eleven', 'else', 'elsewhere', 'empty', 'enough', 'even', 'ever', 'every', 'everyone', 'everything', 'everywhere', 'except', 'fifteen', 'fifty', 'first', 'five', 'former', 'formerly', 'forty', 'four', 'front', 'full', 'get', 'give', 'go', 'hence', 'hereafter', 'hereby', 'herein', 'hereupon', 'however', 'hundred', 'indeed', 'keep', 'last', 'latter', 'latterly', 'least', 'less', 'made', 'make', 'many', 'may', 'meanwhile', 'might', 'mine', 'moreover', 'mostly', 'move', 'much', 'must', \"n't\", 'name', 'namely', 'neither', 'never', 'nevertheless', 'next', 'nine', 'nobody', 'none', 'noone', 'nothing', 'nowhere', 'n‘t', 'n’t', 'often', 'one', 'onto', 'others', 'otherwise', 'part', 'per', 'perhaps', 'please', 'put', 'quite', 'rather', 'really', 'regarding', 'say', 'see', 'seem', 'seemed', 'seeming', 'seems', 'serious', 'several', 'show', 'side', 'since', 'six', 'sixty', 'somehow', 'someone', 'something', 'sometime', 'sometimes', 'somewhere', 'still', 'take', 'ten', 'thence', 'thereafter', 'thereby', 'therefore', 'therein', 'thereupon', 'third', 'though', 'three', 'throughout', 'thru', 'thus', 'together', 'top', 'toward', 'towards', 'twelve', 'twenty', 'two', 'unless', 'upon', 'us', 'used', 'using', 'various', 'via', 'well', 'whatever', 'whence', 'whenever', 'whereafter', 'whereas', 'whereby', 'wherein', 'whereupon', 'wherever', 'whether', 'whither', 'whoever', 'whole', 'whose', 'within', 'without', 'would', 'yet', '‘d', '‘ll', '‘m', '‘re', '‘s', '‘ve', '’d', '’ll', '’m', '’re', '’s', '’ve']\n",
      "Common stopwords: ['a', 'about', 'above', 'after', 'again', 'against', 'all', 'am', 'an', 'and', 'any', 'are', 'as', 'at', 'be', 'because', 'been', 'before', 'being', 'below', 'between', 'both', 'but', 'by', 'can', 'did', 'do', 'does', 'doing', 'down', 'during', 'each', 'few', 'for', 'from', 'further', 'had', 'has', 'have', 'he', 'her', 'here', 'hers', 'herself', 'him', 'himself', 'his', 'how', 'i', 'if', 'in', 'into', 'is', 'it', 'its', 'itself', 'just', 'me', 'more', 'most', 'my', 'myself', 'no', 'nor', 'not', 'now', 'of', 'off', 'on', 'once', 'only', 'or', 'other', 'our', 'ours', 'ourselves', 'out', 'over', 'own', 're', 'same', 'she', 'should', 'so', 'some', 'such', 'than', 'that', 'the', 'their', 'them', 'themselves', 'then', 'there', 'these', 'they', 'this', 'those', 'through', 'to', 'too', 'under', 'until', 'up', 'very', 'was', 'we', 'were', 'what', 'when', 'where', 'which', 'while', 'who', 'whom', 'why', 'will', 'with', 'you', 'your', 'yours', 'yourself', 'yourselves']\n"
     ]
    }
   ],
   "execution_count": 62
  },
  {
   "metadata": {
    "ExecuteTime": {
     "end_time": "2025-03-23T15:43:16.030388Z",
     "start_time": "2025-03-23T15:43:15.979663Z"
    }
   },
   "cell_type": "code",
   "source": [
    "doc = nlp(\"Monday’s Crosswords Do with EaseTuesday’s Crosswords Not a BreezeWednesday’s Crosswords Harder StillThursday’s Crosswords Take Real SkillFriday’s Crosswords — You’ve Come This Far…Saturday’s Crosswords — You’re a Star!For millions of people, the New York Times crossword puzzles are as essential to each day as the first cup of coffee in the morning. Now, for the first time ever, these premier puzzles are available in six clever installments. With each day of the week, the puzzles increase gradually in skill level; Monday’s the easiest, but Saturday’s sure to challenge! Push your mental muscles a little harder each day with America’s favorite sophisticated — and fun — pastime: the New York Times crossword puzzles!The legendary Eugene T. Maleska was crossword editor of The New York Times from 1977 to 1993.\")\n",
    "\n",
    "stopWords = set(nlp.Defaults.stop_words)\n",
    "wordsFiltered_spacy = [w.text for w in doc if w.text.lower not in stopWords]\n",
    "print(wordsFiltered_spacy)"
   ],
   "id": "7c8fe066b853807d",
   "outputs": [
    {
     "name": "stdout",
     "output_type": "stream",
     "text": [
      "['Monday', '’s', 'Crosswords', 'Do', 'with', 'EaseTuesday', '’s', 'Crosswords', 'Not', 'a', 'BreezeWednesday', '’s', 'Crosswords', 'Harder', 'StillThursday', '’s', 'Crosswords', 'Take', 'Real', 'SkillFriday', '’s', 'Crosswords', '—', 'You', '’ve', 'Come', 'This', 'Far', '…', 'Saturday', '’s', 'Crosswords', '—', 'You', '’re', 'a', 'Star!For', 'millions', 'of', 'people', ',', 'the', 'New', 'York', 'Times', 'crossword', 'puzzles', 'are', 'as', 'essential', 'to', 'each', 'day', 'as', 'the', 'first', 'cup', 'of', 'coffee', 'in', 'the', 'morning', '.', 'Now', ',', 'for', 'the', 'first', 'time', 'ever', ',', 'these', 'premier', 'puzzles', 'are', 'available', 'in', 'six', 'clever', 'installments', '.', 'With', 'each', 'day', 'of', 'the', 'week', ',', 'the', 'puzzles', 'increase', 'gradually', 'in', 'skill', 'level', ';', 'Monday', '’s', 'the', 'easiest', ',', 'but', 'Saturday', '’s', 'sure', 'to', 'challenge', '!', 'Push', 'your', 'mental', 'muscles', 'a', 'little', 'harder', 'each', 'day', 'with', 'America', '’s', 'favorite', 'sophisticated', '—', 'and', 'fun', '—', 'pastime', ':', 'the', 'New', 'York', 'Times', 'crossword', 'puzzles!The', 'legendary', 'Eugene', 'T.', 'Maleska', 'was', 'crossword', 'editor', 'of', 'The', 'New', 'York', 'Times', 'from', '1977', 'to', '1993', '.']\n"
     ]
    }
   ],
   "execution_count": 42
  },
  {
   "metadata": {},
   "cell_type": "markdown",
   "source": "Clean **Description** by lowercasing + remove special characters",
   "id": "aff18082b314b866"
  },
  {
   "metadata": {
    "ExecuteTime": {
     "end_time": "2025-03-23T15:43:21.562760Z",
     "start_time": "2025-03-23T15:43:16.065118Z"
    }
   },
   "cell_type": "code",
   "source": [
    "import re\n",
    "def clean_text(text):\n",
    "    text = text.lower()\n",
    "    text = re.sub(r'[^a-z\\s]', '', text) # only keep a-z + whitespaces\n",
    "    text = re.sub(r'\\s+', ' ', text).strip() # remove consecutive whitespaces + leading/trailing\n",
    "    return text\n",
    "\n",
    "df['clean_description'] = df['DESCRIPTION'].astype(str).apply(clean_text)\n",
    "df[['DESCRIPTION', 'clean_description']].head()"
   ],
   "id": "fc35bf2443db52b4",
   "outputs": [
    {
     "data": {
      "text/plain": [
       "                                         DESCRIPTION  \\\n",
       "0  Monday’s Crosswords Do with EaseTuesday’s Cros...   \n",
       "1  Two of literary comics modern masters present ...   \n",
       "2  Eleven-year-old Cornelia is the daughter of tw...   \n",
       "3  During the English Age of Reason, a woman cloi...   \n",
       "4  A modern-day retelling of The Strange Case of ...   \n",
       "\n",
       "                                   clean_description  \n",
       "0  mondays crosswords do with easetuesdays crossw...  \n",
       "1  two of literary comics modern masters present ...  \n",
       "2  elevenyearold cornelia is the daughter of two ...  \n",
       "3  during the english age of reason a woman clois...  \n",
       "4  a modernday retelling of the strange case of d...  "
      ],
      "text/html": [
       "<div>\n",
       "<style scoped>\n",
       "    .dataframe tbody tr th:only-of-type {\n",
       "        vertical-align: middle;\n",
       "    }\n",
       "\n",
       "    .dataframe tbody tr th {\n",
       "        vertical-align: top;\n",
       "    }\n",
       "\n",
       "    .dataframe thead th {\n",
       "        text-align: right;\n",
       "    }\n",
       "</style>\n",
       "<table border=\"1\" class=\"dataframe\">\n",
       "  <thead>\n",
       "    <tr style=\"text-align: right;\">\n",
       "      <th></th>\n",
       "      <th>DESCRIPTION</th>\n",
       "      <th>clean_description</th>\n",
       "    </tr>\n",
       "  </thead>\n",
       "  <tbody>\n",
       "    <tr>\n",
       "      <th>0</th>\n",
       "      <td>Monday’s Crosswords Do with EaseTuesday’s Cros...</td>\n",
       "      <td>mondays crosswords do with easetuesdays crossw...</td>\n",
       "    </tr>\n",
       "    <tr>\n",
       "      <th>1</th>\n",
       "      <td>Two of literary comics modern masters present ...</td>\n",
       "      <td>two of literary comics modern masters present ...</td>\n",
       "    </tr>\n",
       "    <tr>\n",
       "      <th>2</th>\n",
       "      <td>Eleven-year-old Cornelia is the daughter of tw...</td>\n",
       "      <td>elevenyearold cornelia is the daughter of two ...</td>\n",
       "    </tr>\n",
       "    <tr>\n",
       "      <th>3</th>\n",
       "      <td>During the English Age of Reason, a woman cloi...</td>\n",
       "      <td>during the english age of reason a woman clois...</td>\n",
       "    </tr>\n",
       "    <tr>\n",
       "      <th>4</th>\n",
       "      <td>A modern-day retelling of The Strange Case of ...</td>\n",
       "      <td>a modernday retelling of the strange case of d...</td>\n",
       "    </tr>\n",
       "  </tbody>\n",
       "</table>\n",
       "</div>"
      ]
     },
     "execution_count": 43,
     "metadata": {},
     "output_type": "execute_result"
    }
   ],
   "execution_count": 43
  },
  {
   "metadata": {},
   "cell_type": "markdown",
   "source": "Tokenize **Description** + remove stopwords",
   "id": "6c244c0c3af23100"
  },
  {
   "metadata": {
    "ExecuteTime": {
     "end_time": "2025-03-23T15:44:04.407892Z",
     "start_time": "2025-03-23T15:43:21.660621Z"
    }
   },
   "cell_type": "code",
   "source": [
    "stop_words = set(stopwords.words('english'))\n",
    "\n",
    "def tokenize_text(text):\n",
    "    tokens = word_tokenize(text)\n",
    "    tokens = [word for word in tokens if word not in stop_words]\n",
    "    return tokens\n",
    "\n",
    "df['tokens'] = df['clean_description'].apply(tokenize_text)\n",
    "df[['clean_description', 'tokens']].head()"
   ],
   "id": "87cf15a1cda7f39c",
   "outputs": [
    {
     "data": {
      "text/plain": [
       "                                   clean_description  \\\n",
       "0  mondays crosswords do with easetuesdays crossw...   \n",
       "1  two of literary comics modern masters present ...   \n",
       "2  elevenyearold cornelia is the daughter of two ...   \n",
       "3  during the english age of reason a woman clois...   \n",
       "4  a modernday retelling of the strange case of d...   \n",
       "\n",
       "                                              tokens  \n",
       "0  [mondays, crosswords, easetuesdays, crosswords...  \n",
       "1  [two, literary, comics, modern, masters, prese...  \n",
       "2  [elevenyearold, cornelia, daughter, two, world...  \n",
       "3  [english, age, reason, woman, cloistered, sinc...  \n",
       "4  [modernday, retelling, strange, case, dr, jeky...  "
      ],
      "text/html": [
       "<div>\n",
       "<style scoped>\n",
       "    .dataframe tbody tr th:only-of-type {\n",
       "        vertical-align: middle;\n",
       "    }\n",
       "\n",
       "    .dataframe tbody tr th {\n",
       "        vertical-align: top;\n",
       "    }\n",
       "\n",
       "    .dataframe thead th {\n",
       "        text-align: right;\n",
       "    }\n",
       "</style>\n",
       "<table border=\"1\" class=\"dataframe\">\n",
       "  <thead>\n",
       "    <tr style=\"text-align: right;\">\n",
       "      <th></th>\n",
       "      <th>clean_description</th>\n",
       "      <th>tokens</th>\n",
       "    </tr>\n",
       "  </thead>\n",
       "  <tbody>\n",
       "    <tr>\n",
       "      <th>0</th>\n",
       "      <td>mondays crosswords do with easetuesdays crossw...</td>\n",
       "      <td>[mondays, crosswords, easetuesdays, crosswords...</td>\n",
       "    </tr>\n",
       "    <tr>\n",
       "      <th>1</th>\n",
       "      <td>two of literary comics modern masters present ...</td>\n",
       "      <td>[two, literary, comics, modern, masters, prese...</td>\n",
       "    </tr>\n",
       "    <tr>\n",
       "      <th>2</th>\n",
       "      <td>elevenyearold cornelia is the daughter of two ...</td>\n",
       "      <td>[elevenyearold, cornelia, daughter, two, world...</td>\n",
       "    </tr>\n",
       "    <tr>\n",
       "      <th>3</th>\n",
       "      <td>during the english age of reason a woman clois...</td>\n",
       "      <td>[english, age, reason, woman, cloistered, sinc...</td>\n",
       "    </tr>\n",
       "    <tr>\n",
       "      <th>4</th>\n",
       "      <td>a modernday retelling of the strange case of d...</td>\n",
       "      <td>[modernday, retelling, strange, case, dr, jeky...</td>\n",
       "    </tr>\n",
       "  </tbody>\n",
       "</table>\n",
       "</div>"
      ]
     },
     "execution_count": 44,
     "metadata": {},
     "output_type": "execute_result"
    }
   ],
   "execution_count": 44
  },
  {
   "metadata": {},
   "cell_type": "markdown",
   "source": "Vectorize using TF-IDF (maybe use something different later - word2vec)",
   "id": "5196a52c8d9f3b3b"
  },
  {
   "metadata": {
    "ExecuteTime": {
     "end_time": "2025-03-23T15:44:14.541428Z",
     "start_time": "2025-03-23T15:44:04.476656Z"
    }
   },
   "cell_type": "code",
   "source": [
    "from sklearn.feature_extraction.text import TfidfVectorizer\n",
    "from sklearn.cluster import KMeans\n",
    "vectorizer = TfidfVectorizer(stop_words='english') # english stopwords ignored\n",
    "X = vectorizer.fit_transform(df['clean_description'])\n",
    "\n",
    "print(\"TF-IDF matrix shape:\", X.shape)\n",
    "# 91894 book descriptions\n",
    "# 343357 vocabulary size"
   ],
   "id": "7f21a836429f364c",
   "outputs": [
    {
     "name": "stdout",
     "output_type": "stream",
     "text": [
      "TF-IDF matrix shape: (91894, 343357)\n"
     ]
    }
   ],
   "execution_count": 45
  },
  {
   "metadata": {},
   "cell_type": "markdown",
   "source": "Cluster **Desription** using KMeans",
   "id": "10329f03016d3126"
  },
  {
   "metadata": {
    "ExecuteTime": {
     "end_time": "2025-03-23T16:43:29.347323Z",
     "start_time": "2025-03-23T16:39:27.015104Z"
    }
   },
   "cell_type": "code",
   "source": [
    "true_k = 146 # two clusters\n",
    "model = KMeans(n_clusters=true_k, random_state=42)\n",
    "model.fit(X)\n",
    "\n",
    "# Add cluster labels to the DataFrame\n",
    "df['cluster'] = model.labels_\n",
    "print(df[['TITLE', 'clean_description', 'cluster']])"
   ],
   "id": "56a750cfc960306",
   "outputs": [
    {
     "name": "stdout",
     "output_type": "stream",
     "text": [
      "                                                   TITLE  \\\n",
      "0      The New York Times Daily Crossword Puzzles: Th...   \n",
      "1                Creatures of the Night (Second Edition)   \n",
      "2      Cornelia and the Audacious Escapades of the So...   \n",
      "3                               The Alchemist's Daughter   \n",
      "4                                          Dangerous Boy   \n",
      "...                                                  ...   \n",
      "14780                                  Finding the Quiet   \n",
      "14781            You Can Save the Earth, Revised Edition   \n",
      "14782                                   The Holistic Cat   \n",
      "14783                                Jigsaw Sticker Book   \n",
      "14784                                          The Flame   \n",
      "\n",
      "                                       clean_description  cluster  \n",
      "0      mondays crosswords do with easetuesdays crossw...      106  \n",
      "1      two of literary comics modern masters present ...       29  \n",
      "2      elevenyearold cornelia is the daughter of two ...       18  \n",
      "3      during the english age of reason a woman clois...       18  \n",
      "4      a modernday retelling of the strange case of d...        3  \n",
      "...                                                  ...      ...  \n",
      "14780  a powerful book to help you move from chaos in...       62  \n",
      "14781  finallya hopeful book which empowers us to mak...       84  \n",
      "14782  written in an accessible and engaging style fo...      105  \n",
      "14783  complete colorful puzzles one sticker at a tim...      106  \n",
      "14784  koranen of nightfall is burned out on his curs...       60  \n",
      "\n",
      "[91894 rows x 3 columns]\n"
     ]
    }
   ],
   "execution_count": 63
  },
  {
   "metadata": {},
   "cell_type": "markdown",
   "source": "Inspect Cluster Centers to get idea of cluster themes",
   "id": "899291f98f160f9e"
  },
  {
   "metadata": {
    "ExecuteTime": {
     "end_time": "2025-03-23T15:44:17.398918Z",
     "start_time": "2025-03-23T15:44:17.020403Z"
    }
   },
   "cell_type": "code",
   "source": [
    "def print_top_terms_per_cluster(model, vectorizer, n_terms=5):\n",
    "    order_centroids = model.cluster_centers_.argsort()[:, ::-1]\n",
    "    terms = vectorizer.get_feature_names_out()\n",
    "    for i in range(true_k):\n",
    "        print(f\"Cluster {i} top terms:\")\n",
    "        top_terms = [terms[ind] for ind in order_centroids[i, :n_terms]]\n",
    "        print(\", \".join(top_terms))\n",
    "        print(\"\")\n",
    "\n",
    "print_top_terms_per_cluster(model, vectorizer)"
   ],
   "id": "5240d6a22370ceca",
   "outputs": [
    {
     "name": "stdout",
     "output_type": "stream",
     "text": [
      "Cluster 0 top terms:\n",
      "book, new, world, guide, life\n",
      "\n",
      "Cluster 1 top terms:\n",
      "new, life, story, love, world\n",
      "\n"
     ]
    }
   ],
   "execution_count": 47
  },
  {
   "metadata": {},
   "cell_type": "markdown",
   "source": "Connect to Neoj3 database",
   "id": "460c57d46dd9bd0c"
  },
  {
   "metadata": {
    "ExecuteTime": {
     "end_time": "2025-03-23T16:04:05.845248Z",
     "start_time": "2025-03-23T16:04:03.599639Z"
    }
   },
   "cell_type": "code",
   "source": [
    "from neo4j import GraphDatabase\n",
    "import requests\n",
    "uri = \"bolt://localhost:7687\"\n",
    "driver = GraphDatabase.driver(uri, auth=(\"neo4j\", \"neo4jtest1\"))\n",
    "\n",
    "try:\n",
    "    response = requests.get(\"http://localhost:7474\")\n",
    "    if response.status_code != 200:\n",
    "        raise SystemExit(f\"Neo4j is unreachable. HTTP Status Code: {response.status_code}\")\n",
    "    else:\n",
    "        print(\"Neo4j is up and reachable!\")\n",
    "\n",
    "except requests.exceptions.RequestException as e:\n",
    "    raise SystemExit(f\"ERROR: Could not reach Neo4j. Reason: {e}\")\n",
    "\n",
    "def create_book_node(tx, book):\n",
    "    # Example: create a Book node with title and description properties.\n",
    "    query = (\n",
    "        \"CREATE (b:Book {title: $title, description: $description})\"\n",
    "    )\n",
    "    tx.run(query, title=book['TITLE'], description=book['clean_description'])\n",
    "\n",
    "with driver.session() as session:\n",
    "    for _, book in df.head(10).iterrows(): # test with only 10 books\n",
    "        session.execute_write(create_book_node, book)\n",
    "\n",
    "\n",
    "print(\"Book nodes have been created in Neo4j.\")"
   ],
   "id": "eb22b60f9c1fbdc8",
   "outputs": [
    {
     "name": "stdout",
     "output_type": "stream",
     "text": [
      "Neo4j is up and reachable!\n",
      "Book nodes have been created in Neo4j.\n"
     ]
    }
   ],
   "execution_count": 57
  },
  {
   "metadata": {
    "ExecuteTime": {
     "end_time": "2025-03-23T16:05:02.262511Z",
     "start_time": "2025-03-23T16:05:01.847677Z"
    }
   },
   "cell_type": "code",
   "source": [
    "def get_books(tx):\n",
    "    query = \"MATCH (b:Book) RETURN b.title AS title, b.description AS description LIMIT 5\"\n",
    "    return list(tx.run(query))\n",
    "\n",
    "with driver.session() as session:\n",
    "    books = session.execute_read(get_books)\n",
    "    print(\"Sample books from Neo4j:\")\n",
    "    for book in books:\n",
    "        print(book)"
   ],
   "id": "e4d60036de7f2611",
   "outputs": [
    {
     "name": "stdout",
     "output_type": "stream",
     "text": [
      "Sample books from Neo4j:\n",
      "<Record title='The New York Times Daily Crossword Puzzles: Thursday, Volume 1' description='mondays crosswords do with easetuesdays crosswords not a breezewednesdays crosswords harder stillthursdays crosswords take real skillfridays crosswords youve come this farsaturdays crosswords youre a starfor millions of people the new york times crossword puzzles are as essential to each day as the first cup of coffee in the morning now for the first time ever these premier puzzles are available in six clever installments with each day of the week the puzzles increase gradually in skill level mondays the easiest but saturdays sure to challenge push your mental muscles a little harder each day with americas favorite sophisticated and fun pastime the new york times crossword puzzlesthe legendary eugene t maleska was crossword editor of the new york times from to'>\n",
      "<Record title='Creatures of the Night (Second Edition)' description='two of literary comics modern masters present a pair of magical and disturbing stories of strange creatures who are not quite what they seem in the price a mysterious feline engages in a nightly conflict with an unseen vicious foe the daughter of owls recounts an eerie tale of a beautiful orphan girl who was found clutching an owl pelletand how those who would do her wrong would face bizarre unforeseen consequencesneil gaiman the sandman american gods delivers his awardwinning magic and mystery realized in michael zullis lavish paintings newly redesigned in a beautiful new edition'>\n",
      "<Record title='Cornelia and the Audacious Escapades of the Somerset Sisters' description='elevenyearold cornelia is the daughter of two worldfamous pianistsa legacy that should feel fabulous but instead feels just plain lonely she surrounds herself with dictionaries and other books to isolate herself from the outside world but when a glamorous neighbor named virginia somerset moves next door with her servant patel and a mischievous french bulldog named mister kinyatta cornelia discovers that the world is a much more exciting place than she had originally thoughtan unforgettable story of friendship and adventure that takes readers around the world and back again cornelia and the audacious escapades of the somerset sisters is a dazzling first novel by lesley m m blumefrom the hardcover edition'>\n",
      "<Record title=\"The Alchemist's Daughter\" description='during the english age of reason a woman cloistered since birth learns that knowledge is no substitute for experienceraised by her father in near isolation in the english countryside emilie selden is trained as a brilliant natural philosopher and alchemist in the spring of father and daughter embark upon their most daring alchemical experiment to dateattempting to breathe life into dead matter but when emilieagainst her fathers wishesexperiences the passion of first love she is banished to london where she soon discovers she knows nothing about human natureor her own familys complicated past so begins her shocking journey to enlightenment also available as a random house large print edition and as an ebook'>\n",
      "<Record title='Dangerous Boy' description='a modernday retelling of the strange case of dr jekyll and mr hyde with a chilling twist harper has never been worried about falling in love something she is skeptical even exists but everything changes when logan moves to town and to harpers shock the two tumble into an intense romance its everything she never thought she wanted then she meets logans twin brother caleb who was expelled from his last school true hes a bad boy but harper cant shake the feeling that theres something deeply sinister about himsomething dangerous when logan starts pulling away harper is convinced that calebs shadowy past is the wedge being driven between them but by the time she uncovers the truth it may be too late the author of prada prejudice you wish and ripple delivers a modernday retelling of a famously gothic tale full of suspense lies and romance'>\n"
     ]
    }
   ],
   "execution_count": 58
  },
  {
   "metadata": {
    "ExecuteTime": {
     "end_time": "2025-03-23T16:05:12.581787Z",
     "start_time": "2025-03-23T16:05:12.567719Z"
    }
   },
   "cell_type": "code",
   "source": [
    "# Remember to close the driver when you're done\n",
    "driver.close()"
   ],
   "id": "a84b15add655ff87",
   "outputs": [],
   "execution_count": 59
  },
  {
   "metadata": {},
   "cell_type": "code",
   "outputs": [],
   "execution_count": null,
   "source": "",
   "id": "e81b3578f813cf13"
  }
 ],
 "metadata": {
  "kernelspec": {
   "display_name": "Python 3",
   "language": "python",
   "name": "python3"
  },
  "language_info": {
   "codemirror_mode": {
    "name": "ipython",
    "version": 2
   },
   "file_extension": ".py",
   "mimetype": "text/x-python",
   "name": "python",
   "nbconvert_exporter": "python",
   "pygments_lexer": "ipython2",
   "version": "2.7.6"
  }
 },
 "nbformat": 4,
 "nbformat_minor": 5
}
