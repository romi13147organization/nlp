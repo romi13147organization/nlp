{
 "cells": [
  {
   "cell_type": "code",
   "execution_count": 5,
   "id": "7b49343c",
   "metadata": {},
   "outputs": [
    {
     "name": "stdout",
     "output_type": "stream",
     "text": [
      "Requirement already satisfied: matplotlib in c:\\users\\oliver\\appdata\\local\\programs\\python\\python38\\lib\\site-packages (3.7.5)\n",
      "Requirement already satisfied: contourpy>=1.0.1 in c:\\users\\oliver\\appdata\\local\\programs\\python\\python38\\lib\\site-packages (from matplotlib) (1.1.1)\n",
      "Requirement already satisfied: cycler>=0.10 in c:\\users\\oliver\\appdata\\local\\programs\\python\\python38\\lib\\site-packages (from matplotlib) (0.12.1)\n",
      "Requirement already satisfied: fonttools>=4.22.0 in c:\\users\\oliver\\appdata\\local\\programs\\python\\python38\\lib\\site-packages (from matplotlib) (4.56.0)\n",
      "Requirement already satisfied: kiwisolver>=1.0.1 in c:\\users\\oliver\\appdata\\local\\programs\\python\\python38\\lib\\site-packages (from matplotlib) (1.4.7)\n",
      "Requirement already satisfied: numpy<2,>=1.20 in c:\\users\\oliver\\appdata\\local\\programs\\python\\python38\\lib\\site-packages (from matplotlib) (1.24.4)\n",
      "Requirement already satisfied: packaging>=20.0 in c:\\users\\oliver\\appdata\\local\\programs\\python\\python38\\lib\\site-packages (from matplotlib) (24.1)\n",
      "Requirement already satisfied: pillow>=6.2.0 in c:\\users\\oliver\\appdata\\local\\programs\\python\\python38\\lib\\site-packages (from matplotlib) (10.4.0)\n",
      "Requirement already satisfied: pyparsing>=2.3.1 in c:\\users\\oliver\\appdata\\local\\programs\\python\\python38\\lib\\site-packages (from matplotlib) (3.0.7)\n",
      "Requirement already satisfied: python-dateutil>=2.7 in c:\\users\\oliver\\appdata\\local\\programs\\python\\python38\\lib\\site-packages (from matplotlib) (2.9.0.post0)\n",
      "Requirement already satisfied: importlib-resources>=3.2.0 in c:\\users\\oliver\\appdata\\local\\programs\\python\\python38\\lib\\site-packages (from matplotlib) (5.4.0)\n",
      "Requirement already satisfied: zipp>=3.1.0 in c:\\users\\oliver\\appdata\\local\\programs\\python\\python38\\lib\\site-packages (from importlib-resources>=3.2.0->matplotlib) (3.20.1)\n",
      "Requirement already satisfied: six>=1.5 in c:\\users\\oliver\\appdata\\local\\programs\\python\\python38\\lib\\site-packages (from python-dateutil>=2.7->matplotlib) (1.16.0)\n"
     ]
    },
    {
     "name": "stderr",
     "output_type": "stream",
     "text": [
      "\n",
      "[notice] A new release of pip is available: 24.2 -> 25.0.1\n",
      "[notice] To update, run: python.exe -m pip install --upgrade pip\n"
     ]
    },
    {
     "name": "stdout",
     "output_type": "stream",
     "text": [
      "Collecting lxml\n",
      "  Downloading lxml-5.3.1-cp38-cp38-win_amd64.whl.metadata (3.6 kB)\n",
      "Downloading lxml-5.3.1-cp38-cp38-win_amd64.whl (3.8 MB)\n",
      "   ---------------------------------------- 0.0/3.8 MB ? eta -:--:--\n",
      "   -------------------------------------- - 3.7/3.8 MB 21.7 MB/s eta 0:00:01\n",
      "   ---------------------------------------- 3.8/3.8 MB 20.7 MB/s eta 0:00:00\n",
      "Installing collected packages: lxml\n",
      "Successfully installed lxml-5.3.1\n"
     ]
    },
    {
     "name": "stderr",
     "output_type": "stream",
     "text": [
      "\n",
      "[notice] A new release of pip is available: 24.2 -> 25.0.1\n",
      "[notice] To update, run: python.exe -m pip install --upgrade pip\n"
     ]
    }
   ],
   "source": [
    "!pip install matplotlib\n",
    "!pip install lxml"
   ]
  },
  {
   "cell_type": "code",
   "execution_count": 6,
   "id": "initial_id",
   "metadata": {
    "ExecuteTime": {
     "end_time": "2025-03-19T18:13:04.841690Z",
     "start_time": "2025-03-19T18:13:01.702186Z"
    },
    "collapsed": true
   },
   "outputs": [],
   "source": [
    "import pandas as pd\n",
    "import numpy as np\n",
    "import matplotlib.pyplot as plt\n",
    "import os\n",
    "import sys\n",
    "from utilities import read_xml"
   ]
  },
  {
   "cell_type": "code",
   "execution_count": 8,
   "id": "a7fb6d29d92f5dad",
   "metadata": {
    "ExecuteTime": {
     "end_time": "2025-03-19T18:13:24.346213Z",
     "start_time": "2025-03-19T18:13:04.874373Z"
    }
   },
   "outputs": [],
   "source": [
    "# Import\n",
    "PATH_DEV = os.path.join(os.getcwd(), 'origdata', 'BlurbGenreCollection_EN_dev.txt')\n",
    "PATH_TEST = os.path.join(os.getcwd(), 'origdata', 'BlurbGenreCollection_EN_test.txt')\n",
    "PATH_TRAIN = os.path.join(os.getcwd(), 'origdata', 'BlurbGenreCollection_EN_train.txt')\n",
    "\n",
    "df_train = read_xml(PATH_TRAIN)\n",
    "df_test = read_xml(PATH_TEST)\n",
    "df_dev = read_xml(PATH_DEV)\n",
    "\n",
    "frames = [df_train, df_test, df_dev]\n",
    "df = pd.concat(frames)\n"
   ]
  },
  {
   "cell_type": "code",
   "execution_count": 9,
   "id": "2f42a03cfc968272",
   "metadata": {
    "ExecuteTime": {
     "end_time": "2025-03-19T18:13:25.170121Z",
     "start_time": "2025-03-19T18:13:25.084079Z"
    }
   },
   "outputs": [
    {
     "data": {
      "text/html": [
       "<div>\n",
       "<style scoped>\n",
       "    .dataframe tbody tr th:only-of-type {\n",
       "        vertical-align: middle;\n",
       "    }\n",
       "\n",
       "    .dataframe tbody tr th {\n",
       "        vertical-align: top;\n",
       "    }\n",
       "\n",
       "    .dataframe thead th {\n",
       "        text-align: right;\n",
       "    }\n",
       "</style>\n",
       "<table border=\"1\" class=\"dataframe\">\n",
       "  <thead>\n",
       "    <tr style=\"text-align: right;\">\n",
       "      <th></th>\n",
       "      <th>TITLE</th>\n",
       "      <th>AUTHOR</th>\n",
       "      <th>PUBLISHED</th>\n",
       "      <th>ISBN</th>\n",
       "      <th>PAGE_NUM</th>\n",
       "      <th>URL</th>\n",
       "      <th>TOPICS</th>\n",
       "      <th>COPYRIGHT</th>\n",
       "      <th>DESCRIPTION</th>\n",
       "      <th>DATE</th>\n",
       "      <th>LANGUAGE</th>\n",
       "    </tr>\n",
       "  </thead>\n",
       "  <tbody>\n",
       "    <tr>\n",
       "      <th>0</th>\n",
       "      <td>The New York Times Daily Crossword Puzzles: Th...</td>\n",
       "      <td>New York Times</td>\n",
       "      <td>Dec 28, 1996</td>\n",
       "      <td>9780804115827</td>\n",
       "      <td>224 Pages</td>\n",
       "      <td>https://www.penguinrandomhouse.com/books/12309...</td>\n",
       "      <td>Nonfiction, Games</td>\n",
       "      <td>(c) Penguin Random House</td>\n",
       "      <td>Monday’s Crosswords Do with EaseTuesday’s Cros...</td>\n",
       "      <td>2018-08-18</td>\n",
       "      <td>en</td>\n",
       "    </tr>\n",
       "    <tr>\n",
       "      <th>1</th>\n",
       "      <td>Creatures of the Night (Second Edition)</td>\n",
       "      <td>Neil Gaiman</td>\n",
       "      <td>Nov 29, 2016</td>\n",
       "      <td>9781506700250</td>\n",
       "      <td>48 Pages</td>\n",
       "      <td>https://www.penguinrandomhouse.com/books/53958...</td>\n",
       "      <td>Fiction, Graphic Novels  Manga</td>\n",
       "      <td>(c) Penguin Random House</td>\n",
       "      <td>Two of literary comics modern masters present ...</td>\n",
       "      <td>2018-08-18</td>\n",
       "      <td>en</td>\n",
       "    </tr>\n",
       "    <tr>\n",
       "      <th>2</th>\n",
       "      <td>Cornelia and the Audacious Escapades of the So...</td>\n",
       "      <td>Lesley M. M. Blume</td>\n",
       "      <td>Jan 08, 2008</td>\n",
       "      <td>9780440421108</td>\n",
       "      <td>272 Pages</td>\n",
       "      <td>https://www.penguinrandomhouse.com/books/15160...</td>\n",
       "      <td>Children’s Books, Children’s Middle Grade Books</td>\n",
       "      <td>(c) Penguin Random House</td>\n",
       "      <td>Eleven-year-old Cornelia is the daughter of tw...</td>\n",
       "      <td>2018-08-18</td>\n",
       "      <td>en</td>\n",
       "    </tr>\n",
       "    <tr>\n",
       "      <th>3</th>\n",
       "      <td>The Alchemist's Daughter</td>\n",
       "      <td>Katharine McMahon</td>\n",
       "      <td>Oct 24, 2006</td>\n",
       "      <td>9780307335852</td>\n",
       "      <td>352 Pages</td>\n",
       "      <td>https://www.penguinrandomhouse.com/books/11223...</td>\n",
       "      <td>Fiction, Historical Fiction</td>\n",
       "      <td>(c) Penguin Random House</td>\n",
       "      <td>During the English Age of Reason, a woman cloi...</td>\n",
       "      <td>2018-08-18</td>\n",
       "      <td>en</td>\n",
       "    </tr>\n",
       "    <tr>\n",
       "      <th>4</th>\n",
       "      <td>Dangerous Boy</td>\n",
       "      <td>Mandy Hubbard</td>\n",
       "      <td>Aug 30, 2012</td>\n",
       "      <td>9781101575017</td>\n",
       "      <td>272 Pages</td>\n",
       "      <td>https://www.penguinrandomhouse.com/books/30534...</td>\n",
       "      <td>Teen  Young Adult, Teen  Young Adult Mystery  ...</td>\n",
       "      <td>(c) Penguin Random House</td>\n",
       "      <td>A modern-day retelling of The Strange Case of ...</td>\n",
       "      <td>2018-08-18</td>\n",
       "      <td>en</td>\n",
       "    </tr>\n",
       "  </tbody>\n",
       "</table>\n",
       "</div>"
      ],
      "text/plain": [
       "                                               TITLE              AUTHOR  \\\n",
       "0  The New York Times Daily Crossword Puzzles: Th...      New York Times   \n",
       "1            Creatures of the Night (Second Edition)         Neil Gaiman   \n",
       "2  Cornelia and the Audacious Escapades of the So...  Lesley M. M. Blume   \n",
       "3                           The Alchemist's Daughter   Katharine McMahon   \n",
       "4                                      Dangerous Boy       Mandy Hubbard   \n",
       "\n",
       "       PUBLISHED           ISBN    PAGE_NUM  \\\n",
       "0  Dec 28, 1996   9780804115827   224 Pages   \n",
       "1  Nov 29, 2016   9781506700250    48 Pages   \n",
       "2  Jan 08, 2008   9780440421108   272 Pages   \n",
       "3  Oct 24, 2006   9780307335852   352 Pages   \n",
       "4  Aug 30, 2012   9781101575017   272 Pages   \n",
       "\n",
       "                                                 URL  \\\n",
       "0  https://www.penguinrandomhouse.com/books/12309...   \n",
       "1  https://www.penguinrandomhouse.com/books/53958...   \n",
       "2  https://www.penguinrandomhouse.com/books/15160...   \n",
       "3  https://www.penguinrandomhouse.com/books/11223...   \n",
       "4  https://www.penguinrandomhouse.com/books/30534...   \n",
       "\n",
       "                                              TOPICS  \\\n",
       "0                                  Nonfiction, Games   \n",
       "1                     Fiction, Graphic Novels  Manga   \n",
       "2    Children’s Books, Children’s Middle Grade Books   \n",
       "3                        Fiction, Historical Fiction   \n",
       "4  Teen  Young Adult, Teen  Young Adult Mystery  ...   \n",
       "\n",
       "                  COPYRIGHT  \\\n",
       "0  (c) Penguin Random House   \n",
       "1  (c) Penguin Random House   \n",
       "2  (c) Penguin Random House   \n",
       "3  (c) Penguin Random House   \n",
       "4  (c) Penguin Random House   \n",
       "\n",
       "                                         DESCRIPTION        DATE LANGUAGE  \n",
       "0  Monday’s Crosswords Do with EaseTuesday’s Cros...  2018-08-18       en  \n",
       "1  Two of literary comics modern masters present ...  2018-08-18       en  \n",
       "2  Eleven-year-old Cornelia is the daughter of tw...  2018-08-18       en  \n",
       "3  During the English Age of Reason, a woman cloi...  2018-08-18       en  \n",
       "4  A modern-day retelling of The Strange Case of ...  2018-08-18       en  "
      ]
     },
     "execution_count": 9,
     "metadata": {},
     "output_type": "execute_result"
    }
   ],
   "source": [
    "df.head()"
   ]
  },
  {
   "cell_type": "code",
   "execution_count": 10,
   "id": "814477b39533a310",
   "metadata": {
    "ExecuteTime": {
     "end_time": "2025-03-19T18:13:30.855416Z",
     "start_time": "2025-03-19T18:13:30.825125Z"
    }
   },
   "outputs": [
    {
     "name": "stdout",
     "output_type": "stream",
     "text": [
      "Number of datasets:  91894\n",
      "Number of columns:  11\n",
      "Columns:  TITLE, AUTHOR, PUBLISHED, ISBN, PAGE_NUM, URL, TOPICS, COPYRIGHT, DESCRIPTION, DATE, LANGUAGE\n"
     ]
    }
   ],
   "source": [
    "# Basic Statistic\n",
    "\n",
    "print('Number of datasets: ', df.shape[0])\n",
    "print('Number of columns: ', df.shape[1])\n",
    "print('Columns: ', ', '.join(df.columns))"
   ]
  },
  {
   "cell_type": "code",
   "execution_count": null,
   "id": "43c763bd",
   "metadata": {},
   "outputs": [],
   "source": []
  }
 ],
 "metadata": {
  "kernelspec": {
   "display_name": "Python 3",
   "language": "python",
   "name": "python3"
  },
  "language_info": {
   "codemirror_mode": {
    "name": "ipython",
    "version": 3
   },
   "file_extension": ".py",
   "mimetype": "text/x-python",
   "name": "python",
   "nbconvert_exporter": "python",
   "pygments_lexer": "ipython3",
   "version": "3.8.7"
  }
 },
 "nbformat": 4,
 "nbformat_minor": 5
}
