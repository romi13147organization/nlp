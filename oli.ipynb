{
 "cells": [
  {
   "cell_type": "code",
   "execution_count": 18,
   "metadata": {},
   "outputs": [
    {
     "name": "stderr",
     "output_type": "stream",
     "text": [
      "\n",
      "[notice] A new release of pip is available: 24.2 -> 25.0.1\n",
      "[notice] To update, run: python.exe -m pip install --upgrade pip\n",
      "ERROR: You must give at least one requirement to install (see \"pip help install\")\n"
     ]
    }
   ],
   "source": [
    "!pip install --upgrade"
   ]
  },
  {
   "cell_type": "code",
   "execution_count": 19,
   "metadata": {},
   "outputs": [
    {
     "name": "stdout",
     "output_type": "stream",
     "text": [
      "Requirement already satisfied: matplotlib in c:\\users\\oliver\\appdata\\local\\programs\\python\\python38\\lib\\site-packages (3.7.5)\n",
      "Requirement already satisfied: contourpy>=1.0.1 in c:\\users\\oliver\\appdata\\local\\programs\\python\\python38\\lib\\site-packages (from matplotlib) (1.1.1)\n",
      "Requirement already satisfied: cycler>=0.10 in c:\\users\\oliver\\appdata\\local\\programs\\python\\python38\\lib\\site-packages (from matplotlib) (0.12.1)\n",
      "Requirement already satisfied: fonttools>=4.22.0 in c:\\users\\oliver\\appdata\\local\\programs\\python\\python38\\lib\\site-packages (from matplotlib) (4.56.0)\n",
      "Requirement already satisfied: kiwisolver>=1.0.1 in c:\\users\\oliver\\appdata\\local\\programs\\python\\python38\\lib\\site-packages (from matplotlib) (1.4.7)\n",
      "Requirement already satisfied: numpy<2,>=1.20 in c:\\users\\oliver\\appdata\\local\\programs\\python\\python38\\lib\\site-packages (from matplotlib) (1.24.4)\n",
      "Requirement already satisfied: packaging>=20.0 in c:\\users\\oliver\\appdata\\local\\programs\\python\\python38\\lib\\site-packages (from matplotlib) (24.1)\n",
      "Requirement already satisfied: pillow>=6.2.0 in c:\\users\\oliver\\appdata\\local\\programs\\python\\python38\\lib\\site-packages (from matplotlib) (10.4.0)\n",
      "Requirement already satisfied: pyparsing>=2.3.1 in c:\\users\\oliver\\appdata\\local\\programs\\python\\python38\\lib\\site-packages (from matplotlib) (3.0.7)\n",
      "Requirement already satisfied: python-dateutil>=2.7 in c:\\users\\oliver\\appdata\\local\\programs\\python\\python38\\lib\\site-packages (from matplotlib) (2.9.0.post0)\n",
      "Requirement already satisfied: importlib-resources>=3.2.0 in c:\\users\\oliver\\appdata\\local\\programs\\python\\python38\\lib\\site-packages (from matplotlib) (5.4.0)\n",
      "Requirement already satisfied: zipp>=3.1.0 in c:\\users\\oliver\\appdata\\local\\programs\\python\\python38\\lib\\site-packages (from importlib-resources>=3.2.0->matplotlib) (3.20.1)\n",
      "Requirement already satisfied: six>=1.5 in c:\\users\\oliver\\appdata\\local\\programs\\python\\python38\\lib\\site-packages (from python-dateutil>=2.7->matplotlib) (1.16.0)\n"
     ]
    },
    {
     "name": "stderr",
     "output_type": "stream",
     "text": [
      "\n",
      "[notice] A new release of pip is available: 24.2 -> 25.0.1\n",
      "[notice] To update, run: python.exe -m pip install --upgrade pip\n"
     ]
    }
   ],
   "source": [
    "!pip install matplotlib"
   ]
  },
  {
   "cell_type": "code",
   "execution_count": 20,
   "metadata": {},
   "outputs": [
    {
     "name": "stdout",
     "output_type": "stream",
     "text": [
      "Requirement already satisfied: lxml in c:\\users\\oliver\\appdata\\local\\programs\\python\\python38\\lib\\site-packages (5.3.1)\n"
     ]
    },
    {
     "name": "stderr",
     "output_type": "stream",
     "text": [
      "\n",
      "[notice] A new release of pip is available: 24.2 -> 25.0.1\n",
      "[notice] To update, run: python.exe -m pip install --upgrade pip\n"
     ]
    }
   ],
   "source": [
    "\n",
    "!pip install lxml "
   ]
  },
  {
   "cell_type": "code",
   "execution_count": 21,
   "metadata": {},
   "outputs": [
    {
     "name": "stdout",
     "output_type": "stream",
     "text": [
      "Requirement already satisfied: spacy==3.5.4 in c:\\users\\oliver\\appdata\\local\\programs\\python\\python38\\lib\\site-packages (3.5.4)"
     ]
    },
    {
     "name": "stderr",
     "output_type": "stream",
     "text": [
      "\n",
      "[notice] A new release of pip is available: 24.2 -> 25.0.1\n",
      "[notice] To update, run: python.exe -m pip install --upgrade pip\n"
     ]
    },
    {
     "name": "stdout",
     "output_type": "stream",
     "text": [
      "\n",
      "Requirement already satisfied: spacy-legacy<3.1.0,>=3.0.11 in c:\\users\\oliver\\appdata\\local\\programs\\python\\python38\\lib\\site-packages (from spacy==3.5.4) (3.0.12)\n",
      "Requirement already satisfied: spacy-loggers<2.0.0,>=1.0.0 in c:\\users\\oliver\\appdata\\local\\programs\\python\\python38\\lib\\site-packages (from spacy==3.5.4) (1.0.5)\n",
      "Requirement already satisfied: murmurhash<1.1.0,>=0.28.0 in c:\\users\\oliver\\appdata\\local\\programs\\python\\python38\\lib\\site-packages (from spacy==3.5.4) (1.0.12)\n",
      "Requirement already satisfied: cymem<2.1.0,>=2.0.2 in c:\\users\\oliver\\appdata\\local\\programs\\python\\python38\\lib\\site-packages (from spacy==3.5.4) (2.0.11)\n",
      "Requirement already satisfied: preshed<3.1.0,>=3.0.2 in c:\\users\\oliver\\appdata\\local\\programs\\python\\python38\\lib\\site-packages (from spacy==3.5.4) (3.0.9)\n",
      "Requirement already satisfied: thinc<8.2.0,>=8.1.8 in c:\\users\\oliver\\appdata\\local\\programs\\python\\python38\\lib\\site-packages (from spacy==3.5.4) (8.1.12)\n",
      "Requirement already satisfied: wasabi<1.2.0,>=0.9.1 in c:\\users\\oliver\\appdata\\local\\programs\\python\\python38\\lib\\site-packages (from spacy==3.5.4) (1.1.3)\n",
      "Requirement already satisfied: srsly<3.0.0,>=2.4.3 in c:\\users\\oliver\\appdata\\local\\programs\\python\\python38\\lib\\site-packages (from spacy==3.5.4) (2.4.8)\n",
      "Requirement already satisfied: catalogue<2.1.0,>=2.0.6 in c:\\users\\oliver\\appdata\\local\\programs\\python\\python38\\lib\\site-packages (from spacy==3.5.4) (2.0.10)\n",
      "Requirement already satisfied: typer<0.10.0,>=0.3.0 in c:\\users\\oliver\\appdata\\local\\programs\\python\\python38\\lib\\site-packages (from spacy==3.5.4) (0.9.4)\n",
      "Requirement already satisfied: pathy>=0.10.0 in c:\\users\\oliver\\appdata\\local\\programs\\python\\python38\\lib\\site-packages (from spacy==3.5.4) (0.11.0)\n",
      "Requirement already satisfied: smart-open<7.0.0,>=5.2.1 in c:\\users\\oliver\\appdata\\local\\programs\\python\\python38\\lib\\site-packages (from spacy==3.5.4) (6.4.0)\n",
      "Requirement already satisfied: tqdm<5.0.0,>=4.38.0 in c:\\users\\oliver\\appdata\\local\\programs\\python\\python38\\lib\\site-packages (from spacy==3.5.4) (4.67.1)\n",
      "Requirement already satisfied: numpy>=1.15.0 in c:\\users\\oliver\\appdata\\local\\programs\\python\\python38\\lib\\site-packages (from spacy==3.5.4) (1.24.4)\n",
      "Requirement already satisfied: requests<3.0.0,>=2.13.0 in c:\\users\\oliver\\appdata\\local\\programs\\python\\python38\\lib\\site-packages (from spacy==3.5.4) (2.32.3)\n",
      "Requirement already satisfied: pydantic!=1.8,!=1.8.1,<1.11.0,>=1.7.4 in c:\\users\\oliver\\appdata\\local\\programs\\python\\python38\\lib\\site-packages (from spacy==3.5.4) (1.10.21)\n",
      "Requirement already satisfied: jinja2 in c:\\users\\oliver\\appdata\\local\\programs\\python\\python38\\lib\\site-packages (from spacy==3.5.4) (3.0.3)\n",
      "Requirement already satisfied: setuptools in c:\\users\\oliver\\appdata\\local\\programs\\python\\python38\\lib\\site-packages (from spacy==3.5.4) (49.2.1)\n",
      "Requirement already satisfied: packaging>=20.0 in c:\\users\\oliver\\appdata\\local\\programs\\python\\python38\\lib\\site-packages (from spacy==3.5.4) (24.1)\n",
      "Requirement already satisfied: langcodes<4.0.0,>=3.2.0 in c:\\users\\oliver\\appdata\\local\\programs\\python\\python38\\lib\\site-packages (from spacy==3.5.4) (3.4.1)\n",
      "Requirement already satisfied: language-data>=1.2 in c:\\users\\oliver\\appdata\\local\\programs\\python\\python38\\lib\\site-packages (from langcodes<4.0.0,>=3.2.0->spacy==3.5.4) (1.3.0)\n",
      "Requirement already satisfied: pathlib-abc==0.1.1 in c:\\users\\oliver\\appdata\\local\\programs\\python\\python38\\lib\\site-packages (from pathy>=0.10.0->spacy==3.5.4) (0.1.1)\n",
      "Requirement already satisfied: typing-extensions>=4.2.0 in c:\\users\\oliver\\appdata\\local\\programs\\python\\python38\\lib\\site-packages (from pydantic!=1.8,!=1.8.1,<1.11.0,>=1.7.4->spacy==3.5.4) (4.12.2)\n",
      "Requirement already satisfied: charset-normalizer<4,>=2 in c:\\users\\oliver\\appdata\\local\\programs\\python\\python38\\lib\\site-packages (from requests<3.0.0,>=2.13.0->spacy==3.5.4) (3.4.1)\n",
      "Requirement already satisfied: idna<4,>=2.5 in c:\\users\\oliver\\appdata\\local\\programs\\python\\python38\\lib\\site-packages (from requests<3.0.0,>=2.13.0->spacy==3.5.4) (3.10)\n",
      "Requirement already satisfied: urllib3<3,>=1.21.1 in c:\\users\\oliver\\appdata\\local\\programs\\python\\python38\\lib\\site-packages (from requests<3.0.0,>=2.13.0->spacy==3.5.4) (2.2.3)\n",
      "Requirement already satisfied: certifi>=2017.4.17 in c:\\users\\oliver\\appdata\\local\\programs\\python\\python38\\lib\\site-packages (from requests<3.0.0,>=2.13.0->spacy==3.5.4) (2025.1.31)\n",
      "Requirement already satisfied: blis<0.8.0,>=0.7.8 in c:\\users\\oliver\\appdata\\local\\programs\\python\\python38\\lib\\site-packages (from thinc<8.2.0,>=8.1.8->spacy==3.5.4) (0.7.11)\n",
      "Requirement already satisfied: confection<1.0.0,>=0.0.1 in c:\\users\\oliver\\appdata\\local\\programs\\python\\python38\\lib\\site-packages (from thinc<8.2.0,>=8.1.8->spacy==3.5.4) (0.1.5)\n",
      "Requirement already satisfied: colorama in c:\\users\\oliver\\appdata\\local\\programs\\python\\python38\\lib\\site-packages (from tqdm<5.0.0,>=4.38.0->spacy==3.5.4) (0.4.6)\n",
      "Requirement already satisfied: click<9.0.0,>=7.1.1 in c:\\users\\oliver\\appdata\\local\\programs\\python\\python38\\lib\\site-packages (from typer<0.10.0,>=0.3.0->spacy==3.5.4) (8.0.4)\n",
      "Requirement already satisfied: MarkupSafe>=2.0 in c:\\users\\oliver\\appdata\\local\\programs\\python\\python38\\lib\\site-packages (from jinja2->spacy==3.5.4) (2.1.0)\n",
      "Requirement already satisfied: marisa-trie>=1.1.0 in c:\\users\\oliver\\appdata\\local\\programs\\python\\python38\\lib\\site-packages (from language-data>=1.2->langcodes<4.0.0,>=3.2.0->spacy==3.5.4) (1.2.1)\n"
     ]
    }
   ],
   "source": [
    "!pip install spacy==3.5.4\n"
   ]
  },
  {
   "cell_type": "code",
   "execution_count": 22,
   "metadata": {},
   "outputs": [
    {
     "name": "stdout",
     "output_type": "stream",
     "text": [
      "Requirement already satisfied: textblob in c:\\users\\oliver\\appdata\\local\\programs\\python\\python38\\lib\\site-packages (0.18.0.post0)\n",
      "Requirement already satisfied: nltk>=3.8 in c:\\users\\oliver\\appdata\\local\\programs\\python\\python38\\lib\\site-packages (from textblob) (3.9.1)\n",
      "Requirement already satisfied: click in c:\\users\\oliver\\appdata\\local\\programs\\python\\python38\\lib\\site-packages (from nltk>=3.8->textblob) (8.0.4)\n",
      "Requirement already satisfied: joblib in c:\\users\\oliver\\appdata\\local\\programs\\python\\python38\\lib\\site-packages (from nltk>=3.8->textblob) (1.4.2)\n",
      "Requirement already satisfied: regex>=2021.8.3 in c:\\users\\oliver\\appdata\\local\\programs\\python\\python38\\lib\\site-packages (from nltk>=3.8->textblob) (2024.11.6)\n",
      "Requirement already satisfied: tqdm in c:\\users\\oliver\\appdata\\local\\programs\\python\\python38\\lib\\site-packages (from nltk>=3.8->textblob) (4.67.1)\n",
      "Requirement already satisfied: colorama in c:\\users\\oliver\\appdata\\local\\programs\\python\\python38\\lib\\site-packages (from click->nltk>=3.8->textblob) (0.4.6)\n"
     ]
    },
    {
     "name": "stderr",
     "output_type": "stream",
     "text": [
      "\n",
      "[notice] A new release of pip is available: 24.2 -> 25.0.1\n",
      "[notice] To update, run: python.exe -m pip install --upgrade pip\n"
     ]
    }
   ],
   "source": [
    "!pip install textblob"
   ]
  },
  {
   "cell_type": "code",
   "execution_count": null,
   "metadata": {},
   "outputs": [
    {
     "ename": "OSError",
     "evalue": "[E050] Can't find model 'en_core_web_sm'. It doesn't seem to be a Python package or a valid path to a data directory.",
     "output_type": "error",
     "traceback": [
      "\u001b[1;31m---------------------------------------------------------------------------\u001b[0m",
      "\u001b[1;31mOSError\u001b[0m                                   Traceback (most recent call last)",
      "Cell \u001b[1;32mIn[23], line 12\u001b[0m\n\u001b[0;32m      9\u001b[0m \u001b[38;5;28;01mfrom\u001b[39;00m \u001b[38;5;21;01mutilities\u001b[39;00m \u001b[38;5;28;01mimport\u001b[39;00m read_xml\n\u001b[0;32m     11\u001b[0m \u001b[38;5;66;03m# Load spaCy Model\u001b[39;00m\n\u001b[1;32m---> 12\u001b[0m nlp \u001b[38;5;241m=\u001b[39m \u001b[43mspacy\u001b[49m\u001b[38;5;241;43m.\u001b[39;49m\u001b[43mload\u001b[49m\u001b[43m(\u001b[49m\u001b[38;5;124;43m\"\u001b[39;49m\u001b[38;5;124;43men_core_web_sm\u001b[39;49m\u001b[38;5;124;43m\"\u001b[39;49m\u001b[43m)\u001b[49m\n\u001b[0;32m     14\u001b[0m \u001b[38;5;66;03m# Paths to Datasets\u001b[39;00m\n\u001b[0;32m     15\u001b[0m PATH_DEV \u001b[38;5;241m=\u001b[39m os\u001b[38;5;241m.\u001b[39mpath\u001b[38;5;241m.\u001b[39mjoin(os\u001b[38;5;241m.\u001b[39mgetcwd(), \u001b[38;5;124m'\u001b[39m\u001b[38;5;124morigdata\u001b[39m\u001b[38;5;124m'\u001b[39m, \u001b[38;5;124m'\u001b[39m\u001b[38;5;124mBlurbGenreCollection_EN_dev.txt\u001b[39m\u001b[38;5;124m'\u001b[39m)\n",
      "File \u001b[1;32mc:\\Users\\Oliver\\AppData\\Local\\Programs\\Python\\Python38\\lib\\site-packages\\spacy\\__init__.py:54\u001b[0m, in \u001b[0;36mload\u001b[1;34m(name, vocab, disable, enable, exclude, config)\u001b[0m\n\u001b[0;32m     30\u001b[0m \u001b[38;5;28;01mdef\u001b[39;00m \u001b[38;5;21mload\u001b[39m(\n\u001b[0;32m     31\u001b[0m     name: Union[\u001b[38;5;28mstr\u001b[39m, Path],\n\u001b[0;32m     32\u001b[0m     \u001b[38;5;241m*\u001b[39m,\n\u001b[1;32m   (...)\u001b[0m\n\u001b[0;32m     37\u001b[0m     config: Union[Dict[\u001b[38;5;28mstr\u001b[39m, Any], Config] \u001b[38;5;241m=\u001b[39m util\u001b[38;5;241m.\u001b[39mSimpleFrozenDict(),\n\u001b[0;32m     38\u001b[0m ) \u001b[38;5;241m-\u001b[39m\u001b[38;5;241m>\u001b[39m Language:\n\u001b[0;32m     39\u001b[0m \u001b[38;5;250m    \u001b[39m\u001b[38;5;124;03m\"\"\"Load a spaCy model from an installed package or a local path.\u001b[39;00m\n\u001b[0;32m     40\u001b[0m \n\u001b[0;32m     41\u001b[0m \u001b[38;5;124;03m    name (str): Package name or model path.\u001b[39;00m\n\u001b[1;32m   (...)\u001b[0m\n\u001b[0;32m     52\u001b[0m \u001b[38;5;124;03m    RETURNS (Language): The loaded nlp object.\u001b[39;00m\n\u001b[0;32m     53\u001b[0m \u001b[38;5;124;03m    \"\"\"\u001b[39;00m\n\u001b[1;32m---> 54\u001b[0m     \u001b[38;5;28;01mreturn\u001b[39;00m \u001b[43mutil\u001b[49m\u001b[38;5;241;43m.\u001b[39;49m\u001b[43mload_model\u001b[49m\u001b[43m(\u001b[49m\n\u001b[0;32m     55\u001b[0m \u001b[43m        \u001b[49m\u001b[43mname\u001b[49m\u001b[43m,\u001b[49m\n\u001b[0;32m     56\u001b[0m \u001b[43m        \u001b[49m\u001b[43mvocab\u001b[49m\u001b[38;5;241;43m=\u001b[39;49m\u001b[43mvocab\u001b[49m\u001b[43m,\u001b[49m\n\u001b[0;32m     57\u001b[0m \u001b[43m        \u001b[49m\u001b[43mdisable\u001b[49m\u001b[38;5;241;43m=\u001b[39;49m\u001b[43mdisable\u001b[49m\u001b[43m,\u001b[49m\n\u001b[0;32m     58\u001b[0m \u001b[43m        \u001b[49m\u001b[43menable\u001b[49m\u001b[38;5;241;43m=\u001b[39;49m\u001b[43menable\u001b[49m\u001b[43m,\u001b[49m\n\u001b[0;32m     59\u001b[0m \u001b[43m        \u001b[49m\u001b[43mexclude\u001b[49m\u001b[38;5;241;43m=\u001b[39;49m\u001b[43mexclude\u001b[49m\u001b[43m,\u001b[49m\n\u001b[0;32m     60\u001b[0m \u001b[43m        \u001b[49m\u001b[43mconfig\u001b[49m\u001b[38;5;241;43m=\u001b[39;49m\u001b[43mconfig\u001b[49m\u001b[43m,\u001b[49m\n\u001b[0;32m     61\u001b[0m \u001b[43m    \u001b[49m\u001b[43m)\u001b[49m\n",
      "File \u001b[1;32mc:\\Users\\Oliver\\AppData\\Local\\Programs\\Python\\Python38\\lib\\site-packages\\spacy\\util.py:449\u001b[0m, in \u001b[0;36mload_model\u001b[1;34m(name, vocab, disable, enable, exclude, config)\u001b[0m\n\u001b[0;32m    447\u001b[0m \u001b[38;5;28;01mif\u001b[39;00m name \u001b[38;5;129;01min\u001b[39;00m OLD_MODEL_SHORTCUTS:\n\u001b[0;32m    448\u001b[0m     \u001b[38;5;28;01mraise\u001b[39;00m \u001b[38;5;167;01mIOError\u001b[39;00m(Errors\u001b[38;5;241m.\u001b[39mE941\u001b[38;5;241m.\u001b[39mformat(name\u001b[38;5;241m=\u001b[39mname, full\u001b[38;5;241m=\u001b[39mOLD_MODEL_SHORTCUTS[name]))  \u001b[38;5;66;03m# type: ignore[index]\u001b[39;00m\n\u001b[1;32m--> 449\u001b[0m \u001b[38;5;28;01mraise\u001b[39;00m \u001b[38;5;167;01mIOError\u001b[39;00m(Errors\u001b[38;5;241m.\u001b[39mE050\u001b[38;5;241m.\u001b[39mformat(name\u001b[38;5;241m=\u001b[39mname))\n",
      "\u001b[1;31mOSError\u001b[0m: [E050] Can't find model 'en_core_web_sm'. It doesn't seem to be a Python package or a valid path to a data directory."
     ]
    }
   ],
   "source": [
    "# Import Libraries\n",
    "import pandas as pd\n",
    "import numpy as np\n",
    "import matplotlib.pyplot as plt\n",
    "import os\n",
    "import sys\n",
    "import spacy  # Import spaCy for NLP\n",
    "from textblob import TextBlob  # For sentiment analysis\n",
    "from utilities import read_xml\n",
    "\n",
    "# Load spaCy Model\n",
    "nlp = spacy.load(\"en_core_web_sm\")\n",
    "\n",
    "# Paths to Datasets\n",
    "PATH_DEV = os.path.join(os.getcwd(), 'origdata', 'BlurbGenreCollection_EN_dev.txt')\n",
    "PATH_TEST = os.path.join(os.getcwd(), 'origdata', 'BlurbGenreCollection_EN_test.txt')\n",
    "PATH_TRAIN = os.path.join(os.getcwd(), 'origdata', 'BlurbGenreCollection_EN_train.txt')\n",
    "\n",
    "# Load Data\n",
    "df_train = read_xml(PATH_TRAIN)\n",
    "df_test = read_xml(PATH_TEST)\n",
    "df_dev = read_xml(PATH_DEV)\n",
    "\n",
    "# Combine Datasets\n",
    "frames = [df_train, df_test, df_dev]\n",
    "df = pd.concat(frames)\n",
    "\n",
    "# Display Data\n",
    "df.head()\n",
    "\n",
    "# Basic Statistics\n",
    "print('Number of datasets: ', df.shape[0])\n",
    "print('Number of columns: ', df.shape[1])\n",
    "print('Columns: ', ', '.join(df.columns))\n",
    "\n",
    "# =============================\n",
    "# 🔹 **spaCy Processing Functions**\n",
    "# =============================\n",
    "\n",
    "# Function: Named Entity Recognition (NER)\n",
    "def extract_entities(text):\n",
    "    \"\"\"Extracts named entities from a given text.\"\"\"\n",
    "    doc = nlp(text)\n",
    "    return [(ent.text, ent.label_) for ent in doc.ents]\n",
    "\n",
    "# Function: Text Preprocessing (Tokenization, Stopword Removal, Lemmatization)\n",
    "def preprocess_text(text):\n",
    "    \"\"\"Tokenizes, removes stopwords, and lemmatizes text.\"\"\"\n",
    "    doc = nlp(text)\n",
    "    return \" \".join([token.lemma_ for token in doc if not token.is_stop and token.is_alpha])\n",
    "\n",
    "# Function: Compute Similarity Between Two Book Descriptions\n",
    "def compute_similarity(text1, text2):\n",
    "    \"\"\"Computes cosine similarity between two texts using spaCy embeddings.\"\"\"\n",
    "    doc1 = nlp(text1)\n",
    "    doc2 = nlp(text2)\n",
    "    return doc1.similarity(doc2)\n",
    "\n",
    "# Function: Extract Key Phrases (Noun Chunks)\n",
    "def extract_keyphrases(text):\n",
    "    \"\"\"Extracts key noun phrases from a given text.\"\"\"\n",
    "    doc = nlp(text)\n",
    "    return [chunk.text for chunk in doc.noun_chunks]\n",
    "\n",
    "# Function: Sentiment Analysis using TextBlob\n",
    "def analyze_sentiment(text):\n",
    "    \"\"\"Computes sentiment polarity (-1 to 1) for a given text.\"\"\"\n",
    "    blob = TextBlob(text)\n",
    "    return blob.sentiment.polarity\n",
    "\n",
    "# =============================\n",
    "# 🔹 **Apply NLP Functions to Dataset**\n",
    "# =============================\n",
    "\n",
    "# Apply NER, Preprocessing, and Sentiment Analysis on Blurbs\n",
    "df['NER_Entities'] = df['DESCRIPTION'].apply(extract_entities)\n",
    "df['Processed_Text'] = df['DESCRIPTION'].apply(preprocess_text)\n",
    "df['Key_Phrases'] = df['DESCRIPTION'].apply(extract_keyphrases)\n",
    "df['Sentiment_Score'] = df['DESCRIPTION'].apply(analyze_sentiment)\n",
    "\n",
    "# Display the Processed Data\n",
    "import ace_tools as tools  # For displaying DataFrame\n",
    "tools.display_dataframe_to_user(name=\"Processed Book Data\", dataframe=df)\n",
    "\n",
    "# =============================\n",
    "# 🔹 **Example: Similarity Between Two Books**\n",
    "# =============================\n",
    "text1 = df.iloc[0]['DESCRIPTION']  # First book description\n",
    "text2 = df.iloc[1]['DESCRIPTION']  # Second book description\n",
    "similarity_score = compute_similarity(text1, text2)\n",
    "print(f\"Similarity Score between Book 1 & Book 2: {similarity_score:.2f}\")\n",
    "\n",
    "# =============================\n",
    "# 🔹 **Exploratory Data Analysis (EDA)**\n",
    "# =============================\n",
    "\n",
    "# Plot Distribution of Sentiment Scores\n",
    "plt.figure(figsize=(8,5))\n",
    "plt.hist(df['Sentiment_Score'], bins=30, color='skyblue', edgecolor='black')\n",
    "plt.xlabel('Sentiment Score')\n",
    "plt.ylabel('Number of Books')\n",
    "plt.title('Distribution of Sentiment Scores in Book Descriptions')\n",
    "plt.show()\n"
   ]
  },
  {
   "cell_type": "code",
   "execution_count": null,
   "metadata": {},
   "outputs": [],
   "source": []
  }
 ],
 "metadata": {
  "kernelspec": {
   "display_name": "Python 3",
   "language": "python",
   "name": "python3"
  },
  "language_info": {
   "codemirror_mode": {
    "name": "ipython",
    "version": 3
   },
   "file_extension": ".py",
   "mimetype": "text/x-python",
   "name": "python",
   "nbconvert_exporter": "python",
   "pygments_lexer": "ipython3",
   "version": "3.8.7"
  }
 },
 "nbformat": 4,
 "nbformat_minor": 2
}
